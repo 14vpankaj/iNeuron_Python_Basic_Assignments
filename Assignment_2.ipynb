{
 "cells": [
  {
   "cell_type": "code",
   "execution_count": 1,
   "id": "f13ef371",
   "metadata": {},
   "outputs": [],
   "source": [
    "# Answer (1)\n",
    "# Two values of boolean are True and False. They are written as True and False with first letters in capitals."
   ]
  },
  {
   "cell_type": "code",
   "execution_count": 2,
   "id": "9068de23",
   "metadata": {},
   "outputs": [],
   "source": [
    "# Answer (2)\n",
    "# Three differenct types of boolean operators are; and, or and not."
   ]
  },
  {
   "cell_type": "code",
   "execution_count": 3,
   "id": "b6ad415c",
   "metadata": {},
   "outputs": [
    {
     "name": "stdout",
     "output_type": "stream",
     "text": [
      "A\tB\tA and B\n",
      "True\tTrue\tTrue\n",
      "True\tFalse\tFalse\n",
      "False\tTrue\tFalse\n",
      "False\tFalse\tFalse\n"
     ]
    }
   ],
   "source": [
    "# Answer (3)\n",
    "#Truth table for \"and\" boolean operator\n",
    "A= list ([True, True, False, False])\n",
    "B= list ([True, False, True, False])\n",
    "print ('A','B','A and B', sep='\\t')\n",
    "for i in range (0,4):\n",
    "    print (A[i], B[i], A[i] and B[i], sep='\\t')"
   ]
  },
  {
   "cell_type": "code",
   "execution_count": 4,
   "id": "023e1252",
   "metadata": {},
   "outputs": [
    {
     "name": "stdout",
     "output_type": "stream",
     "text": [
      "A\tB\tA or B\n",
      "True\tTrue\tTrue\n",
      "True\tFalse\tTrue\n",
      "False\tTrue\tTrue\n",
      "False\tFalse\tFalse\n"
     ]
    }
   ],
   "source": [
    "# Answer (3)\n",
    "#Truth table for \"and\" boolean operator\n",
    "A = list ([True, True, False, False])\n",
    "B = list ([True, False, True, False])\n",
    "print ('A', 'B', 'A or B', sep='\\t')\n",
    "for i in range (0,4):\n",
    "    print (A[i], B[i], A[i] or B[i], sep='\\t')"
   ]
  },
  {
   "cell_type": "code",
   "execution_count": 5,
   "id": "4e2717c7",
   "metadata": {},
   "outputs": [
    {
     "name": "stdout",
     "output_type": "stream",
     "text": [
      "A\tnot A\n",
      "True\tFalse\n",
      "False\tTrue\n"
     ]
    }
   ],
   "source": [
    "# Answer (3)\n",
    "# Truth table for \"not\" operator\n",
    "A = [True,False]\n",
    "print (\"A\",\"not A\", sep='\\t')\n",
    "for i in range (0,len(A)):\n",
    "    print (A[i], not (A[i]), sep='\\t')"
   ]
  },
  {
   "cell_type": "code",
   "execution_count": 6,
   "id": "533e3d5e",
   "metadata": {},
   "outputs": [
    {
     "data": {
      "text/plain": [
       "False"
      ]
     },
     "execution_count": 6,
     "metadata": {},
     "output_type": "execute_result"
    }
   ],
   "source": [
    "# Answer (4)\n",
    "(5 > 4) and (3 == 5)"
   ]
  },
  {
   "cell_type": "code",
   "execution_count": 7,
   "id": "a8fb7965",
   "metadata": {},
   "outputs": [
    {
     "data": {
      "text/plain": [
       "False"
      ]
     },
     "execution_count": 7,
     "metadata": {},
     "output_type": "execute_result"
    }
   ],
   "source": [
    "# Answer (4)\n",
    "not (5 > 4)"
   ]
  },
  {
   "cell_type": "code",
   "execution_count": 8,
   "id": "d6c6ce29",
   "metadata": {},
   "outputs": [
    {
     "data": {
      "text/plain": [
       "True"
      ]
     },
     "execution_count": 8,
     "metadata": {},
     "output_type": "execute_result"
    }
   ],
   "source": [
    "# Answer (4)\n",
    "(5 > 4) or (3 == 5)"
   ]
  },
  {
   "cell_type": "code",
   "execution_count": 9,
   "id": "1e1996cd",
   "metadata": {},
   "outputs": [
    {
     "data": {
      "text/plain": [
       "False"
      ]
     },
     "execution_count": 9,
     "metadata": {},
     "output_type": "execute_result"
    }
   ],
   "source": [
    "# Answer (4)\n",
    "not ((5 > 4) or (3 == 5))"
   ]
  },
  {
   "cell_type": "code",
   "execution_count": 10,
   "id": "1e0b130e",
   "metadata": {},
   "outputs": [
    {
     "data": {
      "text/plain": [
       "False"
      ]
     },
     "execution_count": 10,
     "metadata": {},
     "output_type": "execute_result"
    }
   ],
   "source": [
    "# Answer (4)\n",
    "(True and True) and (True == False)"
   ]
  },
  {
   "cell_type": "code",
   "execution_count": 11,
   "id": "239c19ef",
   "metadata": {},
   "outputs": [
    {
     "data": {
      "text/plain": [
       "True"
      ]
     },
     "execution_count": 11,
     "metadata": {},
     "output_type": "execute_result"
    }
   ],
   "source": [
    "# Answer (4)\n",
    "(not False) or (not True)"
   ]
  },
  {
   "cell_type": "code",
   "execution_count": 12,
   "id": "9b54fe2b",
   "metadata": {},
   "outputs": [],
   "source": [
    "# Answer (5)\n",
    "# Six Different Types of Comparison Operators\n",
    "# equal to\n",
    "# not equal to\n",
    "# greater than\n",
    "# greater than or equal to\n",
    "# less than\n",
    "# less than or equal to"
   ]
  },
  {
   "cell_type": "markdown",
   "id": "022746e7",
   "metadata": {},
   "source": [
    "# Answer (6)\n",
    "\n",
    "Equal to operator '==' and Assignment operator '='\n",
    "\n",
    "Equal to operator is used to compare two values or expressions and Assignment operator is used to assign a value to a variable."
   ]
  },
  {
   "cell_type": "code",
   "execution_count": 13,
   "id": "74d77dcc",
   "metadata": {},
   "outputs": [
    {
     "name": "stdout",
     "output_type": "stream",
     "text": [
      "ham\n",
      "spam\n",
      "spam\n"
     ]
    }
   ],
   "source": [
    "# Answer (7)\n",
    "spam = 0\n",
    "# First Block\n",
    "if spam == 10:\n",
    "    print('eggs')\n",
    "    \n",
    "# Second Block\n",
    "if spam > 5:\n",
    "    print('bacon')    \n",
    "\n",
    "# Third Block\n",
    "else:\n",
    "    print('ham')\n",
    "print('spam')\n",
    "print('spam')"
   ]
  },
  {
   "cell_type": "code",
   "execution_count": 14,
   "id": "be64d422",
   "metadata": {},
   "outputs": [
    {
     "name": "stdout",
     "output_type": "stream",
     "text": [
      "2\n",
      "Howdy\n"
     ]
    }
   ],
   "source": [
    "#Answer (8)\n",
    "\n",
    "spam = int (input())\n",
    "if spam==1:\n",
    "    print (\"Hello\")\n",
    "elif spam==2:\n",
    "    print (\"Howdy\")\n",
    "else : \n",
    "    print(\"Greetings!\")"
   ]
  },
  {
   "cell_type": "code",
   "execution_count": 15,
   "id": "a07d9cad",
   "metadata": {},
   "outputs": [],
   "source": [
    "# Answer (9)\n",
    "# An endless loop can be stopped by pressing CTRL + C."
   ]
  },
  {
   "cell_type": "code",
   "execution_count": 16,
   "id": "b107d3b2",
   "metadata": {},
   "outputs": [],
   "source": [
    "# Answer(10)\n",
    "#Break terminates the execution of the current loop, whereas the continue statement jumps to the next iteration."
   ]
  },
  {
   "cell_type": "code",
   "execution_count": 17,
   "id": "16e5937a",
   "metadata": {},
   "outputs": [
    {
     "name": "stdout",
     "output_type": "stream",
     "text": [
      "0 1 2 3 4 5 6 7 8 9 "
     ]
    }
   ],
   "source": [
    "# Answer(11)\n",
    "#range(start, stop[, step])\n",
    "\n",
    "#In this case, start and step value is not given, so python takes start value 0 and step value 1 as default.\n",
    "\n",
    "for i in range(10):\n",
    "    print(i, end=' ')"
   ]
  },
  {
   "cell_type": "code",
   "execution_count": 18,
   "id": "7679f62f",
   "metadata": {},
   "outputs": [
    {
     "name": "stdout",
     "output_type": "stream",
     "text": [
      "0 1 2 3 4 5 6 7 8 9 "
     ]
    }
   ],
   "source": [
    "#In this case,step value is not given, so python takes step value 1 as default.\n",
    "\n",
    "for i in range(0,10):\n",
    "    print(i, end=' ')"
   ]
  },
  {
   "cell_type": "code",
   "execution_count": 19,
   "id": "f390ab11",
   "metadata": {},
   "outputs": [
    {
     "name": "stdout",
     "output_type": "stream",
     "text": [
      "0 1 2 3 4 5 6 7 8 9 "
     ]
    }
   ],
   "source": [
    "# In this case, start, stop and step valutes are given. However outcome is same in each scenario.\n",
    "for i in range(0,10,1):\n",
    "    print(i, end=' ')"
   ]
  },
  {
   "cell_type": "code",
   "execution_count": 20,
   "id": "8e1d3393",
   "metadata": {},
   "outputs": [
    {
     "name": "stdout",
     "output_type": "stream",
     "text": [
      "1 2 3 4 5 6 7 8 9 10 "
     ]
    }
   ],
   "source": [
    "# Answer (12)\n",
    "\n",
    "# Using For loop\n",
    "\n",
    "for i in range(1,11):\n",
    "    print(i, end=\" \")"
   ]
  },
  {
   "cell_type": "code",
   "execution_count": 21,
   "id": "25117d1a",
   "metadata": {},
   "outputs": [
    {
     "name": "stdout",
     "output_type": "stream",
     "text": [
      "1 2 3 4 5 6 7 8 9 10 "
     ]
    }
   ],
   "source": [
    "# Using while loop\n",
    "\n",
    "i = 1\n",
    "while i < 11:\n",
    "    print(i, end=\" \")\n",
    "    i += 1"
   ]
  },
  {
   "cell_type": "code",
   "execution_count": 22,
   "id": "4bc2f8fc",
   "metadata": {},
   "outputs": [],
   "source": [
    "# Answer (13)\n",
    "# spam.bacon()"
   ]
  },
  {
   "cell_type": "code",
   "execution_count": null,
   "id": "7e201816",
   "metadata": {},
   "outputs": [],
   "source": []
  }
 ],
 "metadata": {
  "kernelspec": {
   "display_name": "Python 3",
   "language": "python",
   "name": "python3"
  },
  "language_info": {
   "codemirror_mode": {
    "name": "ipython",
    "version": 3
   },
   "file_extension": ".py",
   "mimetype": "text/x-python",
   "name": "python",
   "nbconvert_exporter": "python",
   "pygments_lexer": "ipython3",
   "version": "3.8.8"
  }
 },
 "nbformat": 4,
 "nbformat_minor": 5
}
