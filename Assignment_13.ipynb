{
 "cells": [
  {
   "cell_type": "markdown",
   "id": "bffb67a3",
   "metadata": {},
   "source": [
    "# Answer 1"
   ]
  },
  {
   "cell_type": "markdown",
   "id": "eaa7c3aa",
   "metadata": {},
   "source": [
    "1. Excel allows for Review of Data with detailed tracking and commenting feature. \n",
    "2. An Excel not only stores data but can also do operations on the data\n",
    "3. Files saved in excel cannot be opened or edited by text editors\n",
    "4. large files user is much easier in Excel for the end user. Also, \n",
    "    you can have additional functions like selecting individual cells for import, \n",
    "    convert dates and time automatically, reading formulas and their results, filters, sorting, etc\n",
    "5. Apart from text, data can also be stored in form of charts and graphs\n",
    "6. Excel can connect to external data sources to fetch data. You can use custom add-in in Excel to increase its functionality. \n",
    "7. It is a binary file that holds information about all the worksheets in a workbook.\n",
    "8. In Excel, spreadsheets can have values of data types other than strings; cells can have different fonts, sizes, \n",
    "   or color settings; cells can have varying widths and heights; adjacent cells can be merged"
   ]
  },
  {
   "cell_type": "markdown",
   "id": "b1471a55",
   "metadata": {},
   "source": [
    "# Answer 2"
   ]
  },
  {
   "cell_type": "code",
   "execution_count": 1,
   "id": "ac4bab93",
   "metadata": {},
   "outputs": [],
   "source": [
    "#csv.reader(fileobject, delimiter=<>)\n",
    "#csv.writer(fileobject,delimiter=<>)"
   ]
  },
  {
   "cell_type": "markdown",
   "id": "c63bd6b9",
   "metadata": {},
   "source": [
    "# Answer 3"
   ]
  },
  {
   "cell_type": "markdown",
   "id": "43b13ae8",
   "metadata": {},
   "source": [
    "For reader the file object should be opened in read mode i.e. 'r' mode."
   ]
  },
  {
   "cell_type": "markdown",
   "id": "bd7ac8f6",
   "metadata": {},
   "source": [
    "For writer object the file object should be opened in a write mode i.e.'w' mode or Append mode i.e 'a'."
   ]
  },
  {
   "cell_type": "markdown",
   "id": "6500ff31",
   "metadata": {},
   "source": [
    "# Answer 4"
   ]
  },
  {
   "cell_type": "markdown",
   "id": "2e9a1212",
   "metadata": {},
   "source": [
    "The writerow() method takes a list argument and writes it to a CSV file."
   ]
  },
  {
   "cell_type": "markdown",
   "id": "01d22ee4",
   "metadata": {},
   "source": [
    "# Answer 5"
   ]
  },
  {
   "cell_type": "markdown",
   "id": "79ee8186",
   "metadata": {},
   "source": [
    "The delimiter argument changes the string used to separate cells in a row. \n",
    "The lineterminator argument changes the string used to separate rows."
   ]
  },
  {
   "cell_type": "markdown",
   "id": "df690d4f",
   "metadata": {},
   "source": [
    "# Answer 6"
   ]
  },
  {
   "cell_type": "markdown",
   "id": "4746ebdf",
   "metadata": {},
   "source": [
    "json.loads() takes a string of JSON data and returns a Python data structure."
   ]
  },
  {
   "cell_type": "markdown",
   "id": "3005dc69",
   "metadata": {},
   "source": [
    "# Answer 7"
   ]
  },
  {
   "cell_type": "markdown",
   "id": "1651897f",
   "metadata": {},
   "source": [
    "json.dumps() takes a Python data structure and returns a string of JSON data."
   ]
  },
  {
   "cell_type": "code",
   "execution_count": null,
   "id": "1bb75652",
   "metadata": {},
   "outputs": [],
   "source": []
  }
 ],
 "metadata": {
  "kernelspec": {
   "display_name": "Python 3",
   "language": "python",
   "name": "python3"
  },
  "language_info": {
   "codemirror_mode": {
    "name": "ipython",
    "version": 3
   },
   "file_extension": ".py",
   "mimetype": "text/x-python",
   "name": "python",
   "nbconvert_exporter": "python",
   "pygments_lexer": "ipython3",
   "version": "3.8.8"
  }
 },
 "nbformat": 4,
 "nbformat_minor": 5
}
