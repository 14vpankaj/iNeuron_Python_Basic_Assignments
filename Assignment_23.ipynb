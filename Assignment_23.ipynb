{
 "cells": [
  {
   "cell_type": "markdown",
   "id": "ec760d56",
   "metadata": {},
   "source": [
    "# Answer 1"
   ]
  },
  {
   "cell_type": "code",
   "execution_count": 3,
   "id": "cf156410",
   "metadata": {},
   "outputs": [
    {
     "name": "stdout",
     "output_type": "stream",
     "text": [
      "1 2 8\n"
     ]
    }
   ],
   "source": [
    "def func(a, b=6, c=8):\n",
    "    print(a, b, c)\n",
    "func(1, 2)"
   ]
  },
  {
   "cell_type": "markdown",
   "id": "a5cec94c",
   "metadata": {},
   "source": [
    "The func(1,2) is called, the parameters a is assigned the value 1 and b is assigned the value 2, even though it has a defaultvalue 6. As no third value is passed, the third parameter c retains its default value 8. default values will be used only when the value for that arguments is not passed. Hence the result 1 2 8 is printed."
   ]
  },
  {
   "cell_type": "markdown",
   "id": "8df1fe99",
   "metadata": {},
   "source": [
    "# Answer 2"
   ]
  },
  {
   "cell_type": "code",
   "execution_count": 5,
   "id": "f67414eb",
   "metadata": {},
   "outputs": [
    {
     "name": "stdout",
     "output_type": "stream",
     "text": [
      "1 2 3\n"
     ]
    }
   ],
   "source": [
    "def func(a, b, c=5):\n",
    "    print(a, b, c)\n",
    "func(1, c=3, b=2)"
   ]
  },
  {
   "cell_type": "markdown",
   "id": "5a20d054",
   "metadata": {},
   "source": [
    "When we make function call, order will be positional argument and then keywords arguments. we can pass the keyword arguments in any order we want."
   ]
  },
  {
   "cell_type": "markdown",
   "id": "667bb0d3",
   "metadata": {},
   "source": [
    "# Answer 3"
   ]
  },
  {
   "cell_type": "code",
   "execution_count": 6,
   "id": "de857205",
   "metadata": {},
   "outputs": [
    {
     "name": "stdout",
     "output_type": "stream",
     "text": [
      "1 (2, 3)\n"
     ]
    }
   ],
   "source": [
    "def func(a, *pargs):\n",
    "    print(a, pargs)\n",
    "func(1, 2, 3)"
   ]
  },
  {
   "cell_type": "code",
   "execution_count": 7,
   "id": "6c651473",
   "metadata": {},
   "outputs": [],
   "source": [
    "# The return type of *args parameter is tuple, where as **kargs will be dictionary."
   ]
  },
  {
   "cell_type": "markdown",
   "id": "6f118f41",
   "metadata": {},
   "source": [
    "# Answer 4"
   ]
  },
  {
   "cell_type": "code",
   "execution_count": 9,
   "id": "36803a59",
   "metadata": {},
   "outputs": [
    {
     "name": "stdout",
     "output_type": "stream",
     "text": [
      "1 {'c': 3, 'b': 2}\n"
     ]
    }
   ],
   "source": [
    "def func(a, **kargs):\n",
    "    print(a, kargs)\n",
    "func(a=1, c=3, b=2)"
   ]
  },
  {
   "cell_type": "markdown",
   "id": "500f595e",
   "metadata": {},
   "source": [
    "Positional parameter a in func() is passed the value 1.The **kargs is a variable keyword arguments which hold the variable number key word parameters. **kargs using dictionary to hold the key word value."
   ]
  },
  {
   "cell_type": "markdown",
   "id": "1c62d75f",
   "metadata": {},
   "source": [
    "# Answer 5"
   ]
  },
  {
   "cell_type": "code",
   "execution_count": 10,
   "id": "0549df7b",
   "metadata": {},
   "outputs": [
    {
     "name": "stdout",
     "output_type": "stream",
     "text": [
      "1 5 6 5\n"
     ]
    }
   ],
   "source": [
    "def func(a, b, c=8, d=5):\n",
    "    print(a, b, c, d)\n",
    "func(1, *(5, 6))"
   ]
  },
  {
   "cell_type": "markdown",
   "id": "1d9d05c3",
   "metadata": {},
   "source": [
    "The positinal parameter 1 is assingned to a. as the other argument is a tuple (5,6), to pass it the function func(), the tuple value is unpacked using *(5,6). The unpacked tuple values are passed to positional parameters b,c respectively,  in order i.e b=5, c=6, and d has a default value 5. Hence the result 1 5 6 5 is returned."
   ]
  },
  {
   "cell_type": "markdown",
   "id": "beac3f61",
   "metadata": {},
   "source": [
    "# Answer 6"
   ]
  },
  {
   "cell_type": "code",
   "execution_count": 11,
   "id": "e9277262",
   "metadata": {},
   "outputs": [
    {
     "data": {
      "text/plain": [
       "(1, ['x'], {'a': 'y'})"
      ]
     },
     "execution_count": 11,
     "metadata": {},
     "output_type": "execute_result"
    }
   ],
   "source": [
    "def func(a, b, c): \n",
    "    a = 2; b[0] = 'x'; c['a'] = 'y'\n",
    "    \n",
    "l=1; m=[1]; n={'a':0}\n",
    "func(l, m, n)\n",
    "\n",
    "l, m, n"
   ]
  },
  {
   "cell_type": "markdown",
   "id": "6d000395",
   "metadata": {},
   "source": [
    "Here in the code, the list and dict are passed as argument, and those are mutable. Here the list l and parametr b point \n",
    "to the same list in the memeory location where as dict n and c point to the same memory location. Any updates to this \n",
    "list will update in the memory location\n",
    "\n",
    "l = 1 , integer values, immutable, m is list, mutable, n is dict, mutable.\n",
    "output will be = 1,['x'],{'a':'y'}"
   ]
  },
  {
   "cell_type": "code",
   "execution_count": null,
   "id": "fb3be5b7",
   "metadata": {},
   "outputs": [],
   "source": []
  }
 ],
 "metadata": {
  "kernelspec": {
   "display_name": "Python 3",
   "language": "python",
   "name": "python3"
  },
  "language_info": {
   "codemirror_mode": {
    "name": "ipython",
    "version": 3
   },
   "file_extension": ".py",
   "mimetype": "text/x-python",
   "name": "python",
   "nbconvert_exporter": "python",
   "pygments_lexer": "ipython3",
   "version": "3.8.8"
  }
 },
 "nbformat": 4,
 "nbformat_minor": 5
}
