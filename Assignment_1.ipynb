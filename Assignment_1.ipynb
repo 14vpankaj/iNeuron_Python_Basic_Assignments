{
 "cells": [
  {
   "cell_type": "code",
   "execution_count": 1,
   "id": "b6574ecd",
   "metadata": {},
   "outputs": [],
   "source": [
    "# Answer (1)\n",
    "\n",
    "# *        -- Mathematical Operator \n",
    "# 'hello'  -- String Value\n",
    "# -87.8    --  Float Value\n",
    "# -        -- Mathematical Operator\n",
    "# /        -- Mathematical Operator\n",
    "# +        -- Mathematical Operator\n",
    "# 6        -- Integer Value"
   ]
  },
  {
   "cell_type": "markdown",
   "id": "5c6c4d71",
   "metadata": {},
   "source": [
    "# Answer (2)\n",
    "A variable is literally an identifier to a location in the computer's memory that stores a value. A string is a type of variable that represents a series of characters (i.e. text.)"
   ]
  },
  {
   "cell_type": "code",
   "execution_count": 2,
   "id": "a8863e2d",
   "metadata": {},
   "outputs": [],
   "source": [
    "# Answer (3)\n",
    "\n",
    "# Numeric Type: int, float, complex\n",
    "# Sequence Type: range, list, tuple\n",
    "# Text Type: str\n",
    "# Boolean Type: bool\n",
    "# Mapping Type: dict"
   ]
  },
  {
   "cell_type": "markdown",
   "id": "90367c17",
   "metadata": {},
   "source": [
    "# Answer (4)\n",
    "An expression is a combination of values, variables, operators, and calls to functions. Expressions need to be evaluated. The interpreter evaluates the expression and displays the result."
   ]
  },
  {
   "cell_type": "code",
   "execution_count": 3,
   "id": "c0ba073f",
   "metadata": {},
   "outputs": [],
   "source": [
    "# Answer (5)\n",
    "# An expression is a combination of values, variables, operators whereas, statements represent an action or command."
   ]
  },
  {
   "cell_type": "code",
   "execution_count": 4,
   "id": "d39ab9ed",
   "metadata": {},
   "outputs": [
    {
     "data": {
      "text/plain": [
       "23"
      ]
     },
     "execution_count": 4,
     "metadata": {},
     "output_type": "execute_result"
    }
   ],
   "source": [
    "# Answer (6)\n",
    "bacon = 22\n",
    "bacon + 1"
   ]
  },
  {
   "cell_type": "code",
   "execution_count": 5,
   "id": "59025dce",
   "metadata": {},
   "outputs": [
    {
     "data": {
      "text/plain": [
       "'spamspamspam'"
      ]
     },
     "execution_count": 5,
     "metadata": {},
     "output_type": "execute_result"
    }
   ],
   "source": [
    "# Answer (7)\n",
    "'spam' + 'spamspam'"
   ]
  },
  {
   "cell_type": "code",
   "execution_count": 6,
   "id": "a36dedfa",
   "metadata": {},
   "outputs": [
    {
     "data": {
      "text/plain": [
       "'spamspamspam'"
      ]
     },
     "execution_count": 6,
     "metadata": {},
     "output_type": "execute_result"
    }
   ],
   "source": [
    "# Answer (7)\n",
    "'spam' * 3"
   ]
  },
  {
   "cell_type": "markdown",
   "id": "745c2417",
   "metadata": {},
   "source": [
    "# Answer (8)\n",
    "A variable name must start with a letter or the underscore character. Therefore, eggs is a valid variable name as it starts with a letter. On the other hand, 100 is invalid because it starts with a number."
   ]
  },
  {
   "cell_type": "code",
   "execution_count": 7,
   "id": "0055f8fa",
   "metadata": {},
   "outputs": [],
   "source": [
    "# Answer (9)\n",
    "#int() , float() , and str( ) functions can be used get the integer, floating-point number, or string version of a value."
   ]
  },
  {
   "cell_type": "code",
   "execution_count": 8,
   "id": "96030e15",
   "metadata": {},
   "outputs": [
    {
     "ename": "TypeError",
     "evalue": "can only concatenate str (not \"int\") to str",
     "output_type": "error",
     "traceback": [
      "\u001b[1;31m---------------------------------------------------------------------------\u001b[0m",
      "\u001b[1;31mTypeError\u001b[0m                                 Traceback (most recent call last)",
      "\u001b[1;32m<ipython-input-8-c683bbbc9473>\u001b[0m in \u001b[0;36m<module>\u001b[1;34m\u001b[0m\n\u001b[0;32m      1\u001b[0m \u001b[1;31m# Answer (10)\u001b[0m\u001b[1;33m\u001b[0m\u001b[1;33m\u001b[0m\u001b[1;33m\u001b[0m\u001b[0m\n\u001b[1;32m----> 2\u001b[1;33m \u001b[1;34m'I have eaten '\u001b[0m \u001b[1;33m+\u001b[0m \u001b[1;36m99\u001b[0m \u001b[1;33m+\u001b[0m \u001b[1;34m' burritos.'\u001b[0m\u001b[1;33m\u001b[0m\u001b[1;33m\u001b[0m\u001b[0m\n\u001b[0m",
      "\u001b[1;31mTypeError\u001b[0m: can only concatenate str (not \"int\") to str"
     ]
    }
   ],
   "source": [
    "# Answer (10)\n",
    "'I have eaten ' + 99 + ' burritos.'"
   ]
  },
  {
   "cell_type": "markdown",
   "id": "3a8ac926",
   "metadata": {},
   "source": [
    "# Answer (10)\n",
    "It gives error because string can not be concatenated with an integer. It can easily be resolved after changing the data type of interger into string"
   ]
  },
  {
   "cell_type": "code",
   "execution_count": 9,
   "id": "3c4f11e8",
   "metadata": {},
   "outputs": [
    {
     "data": {
      "text/plain": [
       "'I have eaten 99 burritos.'"
      ]
     },
     "execution_count": 9,
     "metadata": {},
     "output_type": "execute_result"
    }
   ],
   "source": [
    "# Answer (10)\n",
    "'I have eaten ' + str(99) + ' burritos.'"
   ]
  },
  {
   "cell_type": "code",
   "execution_count": null,
   "id": "b109b597",
   "metadata": {},
   "outputs": [],
   "source": []
  },
  {
   "cell_type": "code",
   "execution_count": null,
   "id": "c2051b51",
   "metadata": {},
   "outputs": [],
   "source": []
  },
  {
   "cell_type": "code",
   "execution_count": null,
   "id": "a2d898be",
   "metadata": {},
   "outputs": [],
   "source": []
  }
 ],
 "metadata": {
  "kernelspec": {
   "display_name": "Python 3",
   "language": "python",
   "name": "python3"
  },
  "language_info": {
   "codemirror_mode": {
    "name": "ipython",
    "version": 3
   },
   "file_extension": ".py",
   "mimetype": "text/x-python",
   "name": "python",
   "nbconvert_exporter": "python",
   "pygments_lexer": "ipython3",
   "version": "3.8.8"
  }
 },
 "nbformat": 4,
 "nbformat_minor": 5
}
