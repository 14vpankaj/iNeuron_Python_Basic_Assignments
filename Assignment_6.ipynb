{
 "cells": [
  {
   "cell_type": "markdown",
   "id": "a3f83fb9",
   "metadata": {},
   "source": [
    "# Answer (1)\n",
    "\n",
    "To insert characters that are illegal in a string, use an escape character. An escape character is a backslash \\ followed by the character you want to insert."
   ]
  },
  {
   "cell_type": "code",
   "execution_count": 1,
   "id": "f14446e8",
   "metadata": {},
   "outputs": [],
   "source": [
    "# \\n => New Line\n",
    "# \\t => Tab\n",
    "# \\' => Single Quote\n",
    "# \\\\ => Backslash\n",
    "# \\b => Backspace \n",
    "# \\r => Carriage Return\n",
    "# \\ooo => Octal value\n",
    "# \\xhh => Hex value\n",
    "# \\f => Form Feed"
   ]
  },
  {
   "cell_type": "code",
   "execution_count": 2,
   "id": "042f4c89",
   "metadata": {},
   "outputs": [
    {
     "name": "stdout",
     "output_type": "stream",
     "text": [
      "Namaste, \n",
      "World!\n",
      "Namaste, \tWorld!\n"
     ]
    }
   ],
   "source": [
    "# Answer (2)\n",
    "# \\n => New Line\n",
    "# \\t => Tab\n",
    "print('Namaste, \\nWorld!')\n",
    "print('Namaste, \\tWorld!')"
   ]
  },
  {
   "cell_type": "code",
   "execution_count": 3,
   "id": "585baaeb",
   "metadata": {},
   "outputs": [
    {
     "name": "stdout",
     "output_type": "stream",
     "text": [
      "Namaste, \\World!\\\n"
     ]
    }
   ],
   "source": [
    "# Answer (3)\n",
    "# by using another blakslash '\\'\n",
    "\n",
    "print('Namaste, \\\\World!\\\\')"
   ]
  },
  {
   "cell_type": "code",
   "execution_count": 4,
   "id": "e50794f9",
   "metadata": {},
   "outputs": [
    {
     "data": {
      "text/plain": [
       "\"Howl's Moving Castle\""
      ]
     },
     "execution_count": 4,
     "metadata": {},
     "output_type": "execute_result"
    }
   ],
   "source": [
    "# Answer (4)\n",
    "# The string \"Howl's Moving Castle\" is a correct value becuase \n",
    "# double quotes were used to mark the beginning and end of the string.\n",
    "\n",
    "\"Howl's Moving Castle\""
   ]
  },
  {
   "cell_type": "code",
   "execution_count": 5,
   "id": "af464277",
   "metadata": {},
   "outputs": [
    {
     "name": "stdout",
     "output_type": "stream",
     "text": [
      "Nasamste, World!\n",
      "My name is Pankaj\n",
      "I love Data Science\n"
     ]
    }
   ],
   "source": [
    "# Answer (5)\n",
    "#Multiline strings allow to use newlines in strings without using the \\n escape character.\n",
    "print('''Nasamste, World!\n",
    "My name is Pankaj\n",
    "I love Data Science''')"
   ]
  },
  {
   "cell_type": "code",
   "execution_count": 6,
   "id": "f564f257",
   "metadata": {},
   "outputs": [
    {
     "name": "stdout",
     "output_type": "stream",
     "text": [
      "e\n",
      "Hello\n",
      "Hello\n",
      "lo, world!\n"
     ]
    }
   ],
   "source": [
    "# Answer (6)\n",
    "print('Hello, world!'[1])\n",
    "print('Hello, world!'[0:5])\n",
    "print('Hello, world!'[:5])\n",
    "print('Hello, world!'[3:])"
   ]
  },
  {
   "cell_type": "code",
   "execution_count": 7,
   "id": "3519317c",
   "metadata": {},
   "outputs": [
    {
     "name": "stdout",
     "output_type": "stream",
     "text": [
      "HELLO\n",
      "True\n",
      "hello\n"
     ]
    }
   ],
   "source": [
    "# Answer (7)\n",
    "print('Hello'.upper())\n",
    "print('Hello'.upper().isupper())\n",
    "print('Hello'.upper().lower())"
   ]
  },
  {
   "cell_type": "code",
   "execution_count": 8,
   "id": "845191fb",
   "metadata": {},
   "outputs": [
    {
     "name": "stdout",
     "output_type": "stream",
     "text": [
      "['Remember,', 'remember,', 'the', 'fifth', 'of', 'July.']\n",
      "There-can-only-one.\n"
     ]
    }
   ],
   "source": [
    "# Answer (8)\n",
    "print('Remember, remember, the fifth of July.'.split())\n",
    "print('-'.join('There can only one.'.split()))"
   ]
  },
  {
   "cell_type": "code",
   "execution_count": 9,
   "id": "32059fd6",
   "metadata": {},
   "outputs": [
    {
     "name": "stdout",
     "output_type": "stream",
     "text": [
      "        Namaste, World!\n",
      "Namaste, World!        \n",
      "    Namaste, World!    \n"
     ]
    }
   ],
   "source": [
    "# Answer (9)\n",
    "print('Namaste, World!'.rjust(23))\n",
    "print('Namaste, World!'.ljust(23))\n",
    "print('Namaste, World!'.center(23))"
   ]
  },
  {
   "cell_type": "code",
   "execution_count": 10,
   "id": "4385c5d0",
   "metadata": {},
   "outputs": [
    {
     "name": "stdout",
     "output_type": "stream",
     "text": [
      "Namaste, World!\n",
      "Namaste, World!\n",
      "Namaste, World!\n"
     ]
    }
   ],
   "source": [
    "# Answer (10)\n",
    "# by using  lstrip() and rstrip() methods whitespace characters from the start or end can be removed respectively.\n",
    "print('  Namaste, World!'.lstrip())\n",
    "print('Namaste, World!     '.rstrip())\n",
    "print('     Namaste, World!    '.strip())"
   ]
  },
  {
   "cell_type": "code",
   "execution_count": null,
   "id": "81fc93e7",
   "metadata": {},
   "outputs": [],
   "source": []
  },
  {
   "cell_type": "code",
   "execution_count": null,
   "id": "27d395de",
   "metadata": {},
   "outputs": [],
   "source": []
  },
  {
   "cell_type": "code",
   "execution_count": null,
   "id": "8323323e",
   "metadata": {},
   "outputs": [],
   "source": []
  },
  {
   "cell_type": "code",
   "execution_count": null,
   "id": "69f8eb7a",
   "metadata": {},
   "outputs": [],
   "source": []
  }
 ],
 "metadata": {
  "kernelspec": {
   "display_name": "Python 3",
   "language": "python",
   "name": "python3"
  },
  "language_info": {
   "codemirror_mode": {
    "name": "ipython",
    "version": 3
   },
   "file_extension": ".py",
   "mimetype": "text/x-python",
   "name": "python",
   "nbconvert_exporter": "python",
   "pygments_lexer": "ipython3",
   "version": "3.8.8"
  }
 },
 "nbformat": 4,
 "nbformat_minor": 5
}
