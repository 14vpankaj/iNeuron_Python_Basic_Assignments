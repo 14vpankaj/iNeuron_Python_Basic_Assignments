{
 "cells": [
  {
   "cell_type": "markdown",
   "id": "8ec3c71b",
   "metadata": {},
   "source": [
    "# Answer 1"
   ]
  },
  {
   "cell_type": "code",
   "execution_count": 1,
   "id": "22d13cd5",
   "metadata": {},
   "outputs": [],
   "source": [
    "#List Comprehension with square brackets produces list. List Comprehension with parentheses creates generators."
   ]
  },
  {
   "cell_type": "code",
   "execution_count": 2,
   "id": "f4c27ae0",
   "metadata": {},
   "outputs": [
    {
     "data": {
      "text/plain": [
       "[0, 1, 2, 3, 4, 5, 6, 7, 8, 9]"
      ]
     },
     "execution_count": 2,
     "metadata": {},
     "output_type": "execute_result"
    }
   ],
   "source": [
    "lstSquare = [i for i in range(10)]\n",
    "lstSquare"
   ]
  },
  {
   "cell_type": "code",
   "execution_count": 3,
   "id": "5bbffdb1",
   "metadata": {},
   "outputs": [
    {
     "data": {
      "text/plain": [
       "<generator object <genexpr> at 0x000001C14D9A79E0>"
      ]
     },
     "execution_count": 3,
     "metadata": {},
     "output_type": "execute_result"
    }
   ],
   "source": [
    "lstParanthesis = (i for i in range(10))\n",
    "lstParanthesis"
   ]
  },
  {
   "cell_type": "markdown",
   "id": "b8e7c166",
   "metadata": {},
   "source": [
    "# Answer 2"
   ]
  },
  {
   "cell_type": "markdown",
   "id": "0bb2e725",
   "metadata": {},
   "source": [
    "Iterators: These are the something on which we can iterate upon. We can make anything iterator only when that thing is an iterable object. Then after by using iter function we can make any thing an iterator. Purpose of iterartor is to store the data one by one as when next function is call and then it give the data in return one by one when and only when we call next function on iterator object\n",
    "\n",
    "Generator: It is used for making iterator while defining the function. Instead of return keyword it uses yield keyword. This means that all the items will get store into geneartor object and then it is called out only when next function is applied on it. Difference is only that, we can use iter function to make iterator only out of iterable objects but in case of generator we can make any thing a iterator We can also use for loop also."
   ]
  },
  {
   "cell_type": "markdown",
   "id": "a92defc1",
   "metadata": {},
   "source": [
    "# Answer 3"
   ]
  },
  {
   "cell_type": "markdown",
   "id": "cef3f314",
   "metadata": {},
   "source": [
    "If a function contains at least one yield statement (it may contain other yield or return statements), it becomes a generator function. Both yield and return will return some value from a function."
   ]
  },
  {
   "cell_type": "markdown",
   "id": "7547bc4f",
   "metadata": {},
   "source": [
    "# Answer 4"
   ]
  },
  {
   "cell_type": "markdown",
   "id": "d49b6725",
   "metadata": {},
   "source": [
    "yield statement makes a generator function. It store the data and throw them one by one simultaneously without destroying the state of the variable.\n",
    "\n",
    "A yield statementsimilar to return statement.\n",
    "\n",
    "When the Python yield statement is hit, the program suspends function execution and returns the yielded value to the caller. Then again when we use next function on the genrator function, it again throw the generated value. This keep on going untill all the iteration gsts finish"
   ]
  },
  {
   "cell_type": "markdown",
   "id": "afb2b857",
   "metadata": {},
   "source": [
    "# Answer 5"
   ]
  },
  {
   "cell_type": "markdown",
   "id": "19c1face",
   "metadata": {},
   "source": [
    "List comprehension is more concise and easier to read as compared to map.\n",
    "\n",
    "List comprehension are used when a list of results is required as map only returns a map object and does not return any list. However we can use list function to make convert it into a list.\n",
    "\n",
    "Map is faster in case of calling an already defined function."
   ]
  },
  {
   "cell_type": "code",
   "execution_count": null,
   "id": "b1767ac4",
   "metadata": {},
   "outputs": [],
   "source": []
  }
 ],
 "metadata": {
  "kernelspec": {
   "display_name": "Python 3",
   "language": "python",
   "name": "python3"
  },
  "language_info": {
   "codemirror_mode": {
    "name": "ipython",
    "version": 3
   },
   "file_extension": ".py",
   "mimetype": "text/x-python",
   "name": "python",
   "nbconvert_exporter": "python",
   "pygments_lexer": "ipython3",
   "version": "3.8.8"
  }
 },
 "nbformat": 4,
 "nbformat_minor": 5
}
