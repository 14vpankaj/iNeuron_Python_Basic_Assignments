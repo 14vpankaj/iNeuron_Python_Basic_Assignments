{
 "cells": [
  {
   "cell_type": "markdown",
   "id": "fba60fbd",
   "metadata": {},
   "source": [
    "# Answer 1"
   ]
  },
  {
   "cell_type": "markdown",
   "id": "daac87ab",
   "metadata": {},
   "source": [
    "Keyword def that marks the start of the function header. A function name to uniquely identify the function. \n",
    "Function naming follows the same rules of writing identifiers in Python\n",
    "\n",
    "lambdas are one-line methods without a name.\n",
    "They work practically the same as any other method in Python\n",
    "Lambdas differ from normal Python methods because they can have only one expression,\n",
    "can't contain any statements and their return type is a function object"
   ]
  },
  {
   "cell_type": "markdown",
   "id": "49940b71",
   "metadata": {},
   "source": [
    "# Answer 2"
   ]
  },
  {
   "cell_type": "markdown",
   "id": "71cb04b8",
   "metadata": {},
   "source": [
    "When we need the function to be executed just once or for a very short period of time then we use lambda. We can also say that when we required to pass the function as an argument to higher order function then we use lambda.\n",
    "\n",
    "And since its just a one line of function so it is prefered"
   ]
  },
  {
   "cell_type": "markdown",
   "id": "3005ca07",
   "metadata": {},
   "source": [
    "# Answer 3"
   ]
  },
  {
   "cell_type": "markdown",
   "id": "d86664cb",
   "metadata": {},
   "source": [
    "map - map is function which takes a sequence (e.g. lists, tuples etc) performs a operation on the entire sequence and returns the new sequence"
   ]
  },
  {
   "cell_type": "markdown",
   "id": "a1082a91",
   "metadata": {},
   "source": [
    "filter - Filter is a funtion which applies some operation on the sequence and only those values of the sequence which evaluates to True"
   ]
  },
  {
   "cell_type": "markdown",
   "id": "57909951",
   "metadata": {},
   "source": [
    "reduce - reduce is a function which perfoms a recursive or rolling computation on the pairs of values in a sequence and returns a result."
   ]
  },
  {
   "cell_type": "markdown",
   "id": "db2e964a",
   "metadata": {},
   "source": [
    "# Answer 4"
   ]
  },
  {
   "cell_type": "markdown",
   "id": "8a792d69",
   "metadata": {},
   "source": [
    "Function annotations are completely optional both for parameters and return value. Function annotations provide a way of associating various parts of a function with arbitrary python expressions at compile time."
   ]
  },
  {
   "cell_type": "markdown",
   "id": "6720b68e",
   "metadata": {},
   "source": [
    "# Answer 5"
   ]
  },
  {
   "cell_type": "markdown",
   "id": "8bb83049",
   "metadata": {},
   "source": [
    "A recursive function is a function that calls itself during its execution. \n",
    "This means that the function will continue to call itself and repeat its behavior until some condition is met to return \n",
    "a result"
   ]
  },
  {
   "cell_type": "markdown",
   "id": "e09f9bdd",
   "metadata": {},
   "source": [
    "# Answer 6"
   ]
  },
  {
   "cell_type": "code",
   "execution_count": 1,
   "id": "4ea692b4",
   "metadata": {},
   "outputs": [],
   "source": [
    "#Limited use of globals\n",
    "#Naming conventions for local variables, global variables, constants and functions\n",
    "#Proper Indentation\n",
    "#Error return values and exception handling conventions\n",
    "#Code should be well documented\n",
    "#Length of functions should not be very large\n",
    "#Avoid using a coding style that is too difficult to understand:"
   ]
  },
  {
   "cell_type": "markdown",
   "id": "a9f34241",
   "metadata": {},
   "source": [
    "# Answer 7"
   ]
  },
  {
   "cell_type": "code",
   "execution_count": 3,
   "id": "25ca7eb9",
   "metadata": {},
   "outputs": [],
   "source": [
    "#Return without any expression or value. It returns None\n",
    "#Return multiple values by using lists/tuples/dictionaries\n",
    "#using print() funtion to return values\n",
    "#modifying the mutable objects passed , thereby changing the reference values of object passed."
   ]
  },
  {
   "cell_type": "code",
   "execution_count": null,
   "id": "b2d72009",
   "metadata": {},
   "outputs": [],
   "source": []
  }
 ],
 "metadata": {
  "kernelspec": {
   "display_name": "Python 3",
   "language": "python",
   "name": "python3"
  },
  "language_info": {
   "codemirror_mode": {
    "name": "ipython",
    "version": 3
   },
   "file_extension": ".py",
   "mimetype": "text/x-python",
   "name": "python",
   "nbconvert_exporter": "python",
   "pygments_lexer": "ipython3",
   "version": "3.8.8"
  }
 },
 "nbformat": 4,
 "nbformat_minor": 5
}
