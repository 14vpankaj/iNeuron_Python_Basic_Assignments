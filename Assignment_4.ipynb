{
 "cells": [
  {
   "cell_type": "code",
   "execution_count": 1,
   "id": "20f55552",
   "metadata": {},
   "outputs": [],
   "source": [
    "# Answer (1)\n",
    "# [] is a list.\n",
    "# A list is created by placing all the items (elements) inside square brackets [], separated by commas.\n",
    "# List is mutable and iterable"
   ]
  },
  {
   "cell_type": "code",
   "execution_count": 2,
   "id": "976828a4",
   "metadata": {},
   "outputs": [
    {
     "data": {
      "text/plain": [
       "[2, 4, 6, 8, 10]"
      ]
     },
     "execution_count": 2,
     "metadata": {},
     "output_type": "execute_result"
    }
   ],
   "source": [
    "# Answer (2)\n",
    "spam = [2, 4, 6, 8, 10]\n",
    "spam"
   ]
  },
  {
   "cell_type": "code",
   "execution_count": 3,
   "id": "2e3a666b",
   "metadata": {},
   "outputs": [
    {
     "data": {
      "text/plain": [
       "[2, 4, 'hello', 8, 10]"
      ]
     },
     "execution_count": 3,
     "metadata": {},
     "output_type": "execute_result"
    }
   ],
   "source": [
    "spam [2] = 'hello'\n",
    "spam"
   ]
  },
  {
   "cell_type": "code",
   "execution_count": 4,
   "id": "881a8230",
   "metadata": {},
   "outputs": [
    {
     "data": {
      "text/plain": [
       "'d'"
      ]
     },
     "execution_count": 4,
     "metadata": {},
     "output_type": "execute_result"
    }
   ],
   "source": [
    "# Answer (3)\n",
    "spam = ['a', 'b', 'c', 'd']\n",
    "spam[int(int('3' * 2) / 11)]"
   ]
  },
  {
   "cell_type": "code",
   "execution_count": 5,
   "id": "9f87c447",
   "metadata": {},
   "outputs": [
    {
     "data": {
      "text/plain": [
       "'d'"
      ]
     },
     "execution_count": 5,
     "metadata": {},
     "output_type": "execute_result"
    }
   ],
   "source": [
    "# Answer (4)\n",
    "spam[-1]"
   ]
  },
  {
   "cell_type": "code",
   "execution_count": 6,
   "id": "6eb7b2de",
   "metadata": {},
   "outputs": [
    {
     "data": {
      "text/plain": [
       "['a', 'b']"
      ]
     },
     "execution_count": 6,
     "metadata": {},
     "output_type": "execute_result"
    }
   ],
   "source": [
    "# Answer (5)\n",
    "spam[:2]"
   ]
  },
  {
   "cell_type": "code",
   "execution_count": 7,
   "id": "ab43e657",
   "metadata": {},
   "outputs": [
    {
     "data": {
      "text/plain": [
       "1"
      ]
     },
     "execution_count": 7,
     "metadata": {},
     "output_type": "execute_result"
    }
   ],
   "source": [
    "# Answer (6)\n",
    "bacon = [3.14, 'cat', 11, 'cat', True]\n",
    "bacon.index('cat')"
   ]
  },
  {
   "cell_type": "code",
   "execution_count": 8,
   "id": "84bd3f20",
   "metadata": {},
   "outputs": [
    {
     "name": "stdout",
     "output_type": "stream",
     "text": [
      "[3.14, 'cat', 11, 'cat', True, 99]\n"
     ]
    }
   ],
   "source": [
    "# Answer (7)\n",
    "bacon.append(99)\n",
    "print(bacon)"
   ]
  },
  {
   "cell_type": "code",
   "execution_count": 9,
   "id": "8ad9fa39",
   "metadata": {},
   "outputs": [
    {
     "name": "stdout",
     "output_type": "stream",
     "text": [
      "[3.14, 11, 'cat', True, 99]\n"
     ]
    }
   ],
   "source": [
    "# Answer (8)\n",
    "bacon.remove('cat')\n",
    "print(bacon)"
   ]
  },
  {
   "cell_type": "markdown",
   "id": "09ff583e",
   "metadata": {},
   "source": [
    "# Answer (9)\n",
    "# Concatenation Operator\n",
    "\"\"\"The + operator lets you combine two or more strings in Python.\n",
    " This operator is referred to as the Python string concatenation operator.\n",
    "  The + operator should appear between the two strings you want to merge\"\"\""
   ]
  },
  {
   "cell_type": "code",
   "execution_count": 10,
   "id": "9e7727bb",
   "metadata": {},
   "outputs": [],
   "source": [
    "list = [23,50, 'star', 86, True, 'galaxy']"
   ]
  },
  {
   "cell_type": "code",
   "execution_count": 11,
   "id": "6178fc5a",
   "metadata": {},
   "outputs": [
    {
     "data": {
      "text/plain": [
       "[23, 50, 'star', 86, True, 'galaxy', 2, 5, 'moon']"
      ]
     },
     "execution_count": 11,
     "metadata": {},
     "output_type": "execute_result"
    }
   ],
   "source": [
    "list + [2,5, 'moon']"
   ]
  },
  {
   "cell_type": "code",
   "execution_count": 12,
   "id": "fd957b41",
   "metadata": {},
   "outputs": [
    {
     "data": {
      "text/plain": [
       "[23, 50, 'star', 86, True, 'galaxy', 23, 50, 'star', 86, True, 'galaxy']"
      ]
     },
     "execution_count": 12,
     "metadata": {},
     "output_type": "execute_result"
    }
   ],
   "source": [
    "# Replication Operator\n",
    "#The multiplication operator acts as a replication operator when we have one string and one integer as operands.\n",
    "list * 2"
   ]
  },
  {
   "cell_type": "code",
   "execution_count": 13,
   "id": "c531ffdd",
   "metadata": {},
   "outputs": [
    {
     "data": {
      "text/plain": [
       "[23, 50, 'sun', 'star', 86, True, 'galaxy']"
      ]
     },
     "execution_count": 13,
     "metadata": {},
     "output_type": "execute_result"
    }
   ],
   "source": [
    "# Answer (10)\n",
    "#append() appends object to the end of the list.\n",
    "#insert() takes two input, index value and the object. insert() inserts that object before the given index value.\n",
    "list.insert(2,'sun')\n",
    "list"
   ]
  },
  {
   "cell_type": "code",
   "execution_count": 14,
   "id": "b837678c",
   "metadata": {},
   "outputs": [
    {
     "data": {
      "text/plain": [
       "[23, 50, 'star', 86, True, 'galaxy']"
      ]
     },
     "execution_count": 14,
     "metadata": {},
     "output_type": "execute_result"
    }
   ],
   "source": [
    "# Answer (11)\n",
    "#Two methods for removing items from a list are remove() and pop()\n",
    "#remove() removes first occurrence of value.\n",
    "list.remove('sun')\n",
    "list"
   ]
  },
  {
   "cell_type": "code",
   "execution_count": 15,
   "id": "980391ef",
   "metadata": {},
   "outputs": [
    {
     "data": {
      "text/plain": [
       "[23, 50, 'star', True, 'galaxy']"
      ]
     },
     "execution_count": 15,
     "metadata": {},
     "output_type": "execute_result"
    }
   ],
   "source": [
    "#pop() removes and returns item at index.\n",
    "list.pop(3)\n",
    "list"
   ]
  },
  {
   "cell_type": "markdown",
   "id": "9f8e4b98",
   "metadata": {},
   "source": [
    "# Answer (12)\n",
    "\"\"\"Lists are similar to strings, which are ordered collections of characters,\n",
    " except that the elements of a list can have any type and for any one list, the items can be of different types.\"\"\""
   ]
  },
  {
   "cell_type": "markdown",
   "id": "cdb01d27",
   "metadata": {},
   "source": [
    "# Answer (13)\n",
    "\"\"\"List is mutable, whereas a tuple is immutable. This means that lists can be changed, and tuples cannot be changed.\n",
    " So, some operations can work on lists, but not on tuples\"\"\""
   ]
  },
  {
   "cell_type": "code",
   "execution_count": 16,
   "id": "5d80b383",
   "metadata": {},
   "outputs": [
    {
     "name": "stdout",
     "output_type": "stream",
     "text": [
      "(42,)\n"
     ]
    },
    {
     "data": {
      "text/plain": [
       "tuple"
      ]
     },
     "execution_count": 16,
     "metadata": {},
     "output_type": "execute_result"
    }
   ],
   "source": [
    "# Answer (14)\n",
    "i = [42]\n",
    "tp1=tuple(i)\n",
    "print(tp1)\n",
    "type(tp1)"
   ]
  },
  {
   "cell_type": "code",
   "execution_count": 17,
   "id": "df739f88",
   "metadata": {},
   "outputs": [
    {
     "name": "stdout",
     "output_type": "stream",
     "text": [
      "(2, 5, 8, 23)\n"
     ]
    }
   ],
   "source": [
    "# Answer (15)\n",
    "# list value's tuple form\n",
    "list = [2,5,8,23]\n",
    "tp=tuple(list)\n",
    "print(tp)"
   ]
  },
  {
   "cell_type": "code",
   "execution_count": 18,
   "id": "ab25764d",
   "metadata": {},
   "outputs": [
    {
     "ename": "TypeError",
     "evalue": "'list' object is not callable",
     "output_type": "error",
     "traceback": [
      "\u001b[1;31m---------------------------------------------------------------------------\u001b[0m",
      "\u001b[1;31mTypeError\u001b[0m                                 Traceback (most recent call last)",
      "\u001b[1;32m<ipython-input-18-f85a67f4d9c1>\u001b[0m in \u001b[0;36m<module>\u001b[1;34m\u001b[0m\n\u001b[0;32m      1\u001b[0m \u001b[1;31m# tuple value's list form\u001b[0m\u001b[1;33m\u001b[0m\u001b[1;33m\u001b[0m\u001b[1;33m\u001b[0m\u001b[0m\n\u001b[0;32m      2\u001b[0m \u001b[0mtuple\u001b[0m \u001b[1;33m=\u001b[0m \u001b[1;33m(\u001b[0m\u001b[1;36m2\u001b[0m\u001b[1;33m,\u001b[0m\u001b[1;36m4\u001b[0m\u001b[1;33m,\u001b[0m\u001b[1;36m5\u001b[0m\u001b[1;33m,\u001b[0m\u001b[1;36m23\u001b[0m\u001b[1;33m)\u001b[0m\u001b[1;33m\u001b[0m\u001b[1;33m\u001b[0m\u001b[0m\n\u001b[1;32m----> 3\u001b[1;33m \u001b[0mlist\u001b[0m \u001b[1;33m=\u001b[0m \u001b[0mlist\u001b[0m\u001b[1;33m(\u001b[0m\u001b[0mtuple\u001b[0m\u001b[1;33m)\u001b[0m\u001b[1;33m\u001b[0m\u001b[1;33m\u001b[0m\u001b[0m\n\u001b[0m\u001b[0;32m      4\u001b[0m \u001b[0mprint\u001b[0m\u001b[1;33m(\u001b[0m\u001b[0mlist\u001b[0m\u001b[1;33m)\u001b[0m\u001b[1;33m\u001b[0m\u001b[1;33m\u001b[0m\u001b[0m\n",
      "\u001b[1;31mTypeError\u001b[0m: 'list' object is not callable"
     ]
    }
   ],
   "source": [
    "# tuple value's list form\n",
    "tuple = (2,4,5,23)\n",
    "list = list(tuple)\n",
    "print(list)"
   ]
  },
  {
   "cell_type": "code",
   "execution_count": 19,
   "id": "8b7bcfa0",
   "metadata": {},
   "outputs": [
    {
     "name": "stdout",
     "output_type": "stream",
     "text": [
      "1160107754944\n"
     ]
    }
   ],
   "source": [
    "# Answer (16)\n",
    "# They contain the identity\n",
    "list = ['pankaj', 23, 'verma', 86]\n",
    "print(id(list))"
   ]
  },
  {
   "cell_type": "markdown",
   "id": "b1707c5d",
   "metadata": {},
   "source": [
    "# Answer (17)\n",
    "\"\"\"A shallow copy constructs a new compound object and then (to the extent possible) inserts references\n",
    " into it to the objects found in the original. A deep copy constructs a new compound object and then, recursively,\n",
    "  inserts copies into it of the objects found in the original. The copy.copy() function will do a shallow copy of a list,\n",
    "   while the copy.deepcopy() function will do a deep copy of a list.\n",
    "   That is, only copy.deepcopy() will duplicate any lists inside the list.\"\"\""
   ]
  },
  {
   "cell_type": "code",
   "execution_count": null,
   "id": "177983e0",
   "metadata": {},
   "outputs": [],
   "source": []
  },
  {
   "cell_type": "code",
   "execution_count": null,
   "id": "ad72e759",
   "metadata": {},
   "outputs": [],
   "source": []
  }
 ],
 "metadata": {
  "kernelspec": {
   "display_name": "Python 3",
   "language": "python",
   "name": "python3"
  },
  "language_info": {
   "codemirror_mode": {
    "name": "ipython",
    "version": 3
   },
   "file_extension": ".py",
   "mimetype": "text/x-python",
   "name": "python",
   "nbconvert_exporter": "python",
   "pygments_lexer": "ipython3",
   "version": "3.8.8"
  }
 },
 "nbformat": 4,
 "nbformat_minor": 5
}
