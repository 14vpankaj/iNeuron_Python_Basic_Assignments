{
 "cells": [
  {
   "cell_type": "markdown",
   "id": "d2f25153",
   "metadata": {},
   "source": [
    "# Answer(1)\n",
    "Function helps us to make more organized programs as we can reuse them and import from other modules easily. It helps to decompose complex problems into simpler pieces and reduce duplicy of codes."
   ]
  },
  {
   "cell_type": "code",
   "execution_count": 1,
   "id": "0545d939",
   "metadata": {},
   "outputs": [],
   "source": [
    "# Answer(2)\n",
    "# A function runs when it is called."
   ]
  },
  {
   "cell_type": "code",
   "execution_count": 2,
   "id": "d0fef122",
   "metadata": {},
   "outputs": [],
   "source": [
    "# Answer (3)\n",
    "# Function call statement."
   ]
  },
  {
   "cell_type": "markdown",
   "id": "de04ece4",
   "metadata": {},
   "source": [
    "# Answer (4)\n",
    "A function can be created by def keyword and function name is followed by parameters in open and close paranthesis.\n",
    "Inside the function body, the return statement determines the value to be returned."
   ]
  },
  {
   "cell_type": "code",
   "execution_count": 3,
   "id": "684915e8",
   "metadata": {},
   "outputs": [
    {
     "data": {
      "text/plain": [
       "'function has been created'"
      ]
     },
     "execution_count": 3,
     "metadata": {},
     "output_type": "execute_result"
    }
   ],
   "source": [
    "# Function can easily be called by its name and with required arguements.\n",
    "\n",
    "def function():\n",
    "    return \"function has been created\"\n",
    "\n",
    "function()"
   ]
  },
  {
   "cell_type": "code",
   "execution_count": 4,
   "id": "b3448288",
   "metadata": {},
   "outputs": [],
   "source": [
    "# Answer (5)\n",
    "# There can be many local scopes in a python program but only one global scope."
   ]
  },
  {
   "cell_type": "code",
   "execution_count": 5,
   "id": "641ebabb",
   "metadata": {},
   "outputs": [],
   "source": [
    "# Answer (6)\n",
    "# When the execution of the function terminates (returns), the local variables are destroyed."
   ]
  },
  {
   "cell_type": "markdown",
   "id": "d05dac82",
   "metadata": {},
   "source": [
    "# Answer (7)\n",
    "\n",
    "The value that returns after executing a function and which is mentioned in return statement is called return values. It returns the value which is mentioned in return statement. \n",
    "Yes, it is possible to have a return value in an expression."
   ]
  },
  {
   "cell_type": "code",
   "execution_count": 6,
   "id": "94c2db2c",
   "metadata": {},
   "outputs": [
    {
     "name": "stdout",
     "output_type": "stream",
     "text": [
      "None\n"
     ]
    }
   ],
   "source": [
    "# Answer (8)\n",
    "# If a function does not have a return statement, the return value of a call to that function is None.\n",
    "def function():\n",
    "    return\n",
    "print(function())"
   ]
  },
  {
   "cell_type": "code",
   "execution_count": 7,
   "id": "4544f717",
   "metadata": {},
   "outputs": [
    {
     "name": "stdout",
     "output_type": "stream",
     "text": [
      "5\n",
      "2\n"
     ]
    }
   ],
   "source": [
    "# Answer (9)\n",
    "# By using global variable, a function variable refer to the global variable?\n",
    "\n",
    "a = 2\n",
    "def func():\n",
    "    a = 5\n",
    "    print(a)\n",
    "func()\n",
    "print(a)"
   ]
  },
  {
   "cell_type": "code",
   "execution_count": 8,
   "id": "b9dbaeb8",
   "metadata": {},
   "outputs": [
    {
     "name": "stdout",
     "output_type": "stream",
     "text": [
      "5\n",
      "5\n"
     ]
    }
   ],
   "source": [
    "a = 2\n",
    "def func():\n",
    "    global a # Using global variable, a function variable can be referred as a global variable.\n",
    "    a = 5\n",
    "    print(a)\n",
    "func()\n",
    "print(a)"
   ]
  },
  {
   "cell_type": "code",
   "execution_count": 9,
   "id": "afd07686",
   "metadata": {},
   "outputs": [],
   "source": [
    "# Answer (10)\n",
    "# NoneType is the data type of None"
   ]
  },
  {
   "cell_type": "markdown",
   "id": "d41f6f43",
   "metadata": {},
   "source": [
    "# Answer (11)\n",
    "Import areallyourpetsnamederic makes areallyourpetsnamederic available in the current module by the process of importing it.\n",
    "So that all the function of the imported module can be accessed."
   ]
  },
  {
   "cell_type": "code",
   "execution_count": 10,
   "id": "d86506cd",
   "metadata": {},
   "outputs": [],
   "source": [
    "# Answer (12)\n",
    "# After importin the spam module, bacon() function can easily be called by spam.bacon()."
   ]
  },
  {
   "cell_type": "code",
   "execution_count": 11,
   "id": "c2212f59",
   "metadata": {},
   "outputs": [
    {
     "name": "stdout",
     "output_type": "stream",
     "text": [
      "division by zero\n"
     ]
    }
   ],
   "source": [
    "# Answer (13)\n",
    "# A program can be avoided to crash by Exception Handling. A code should always be writtern inside the try except block.\n",
    "\n",
    "def div(a,b):\n",
    "    c=a/b\n",
    "    return(c)\n",
    "\n",
    "try:\n",
    "    div(5,0)\n",
    "except Exception as e:\n",
    "    print(e)"
   ]
  },
  {
   "cell_type": "code",
   "execution_count": 12,
   "id": "f5ba9a3c",
   "metadata": {},
   "outputs": [],
   "source": [
    "# Answer (14)\n",
    "# A suspicious code which can give error, should be written after try clause.\n",
    "# The except clause handles the error."
   ]
  },
  {
   "cell_type": "code",
   "execution_count": null,
   "id": "63c55acd",
   "metadata": {},
   "outputs": [],
   "source": []
  }
 ],
 "metadata": {
  "kernelspec": {
   "display_name": "Python 3",
   "language": "python",
   "name": "python3"
  },
  "language_info": {
   "codemirror_mode": {
    "name": "ipython",
    "version": 3
   },
   "file_extension": ".py",
   "mimetype": "text/x-python",
   "name": "python",
   "nbconvert_exporter": "python",
   "pygments_lexer": "ipython3",
   "version": "3.8.8"
  }
 },
 "nbformat": 4,
 "nbformat_minor": 5
}
