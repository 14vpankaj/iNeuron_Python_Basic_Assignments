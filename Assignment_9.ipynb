{
 "cells": [
  {
   "cell_type": "code",
   "execution_count": 1,
   "id": "457631ee",
   "metadata": {},
   "outputs": [],
   "source": [
    "# Answer 1\n",
    "# A relative path refers to a location that is relative to a current directory."
   ]
  },
  {
   "cell_type": "code",
   "execution_count": 2,
   "id": "08fb0773",
   "metadata": {},
   "outputs": [],
   "source": [
    "# Answer 2\n",
    "# An Absolute path starts with the root directory for windows \"C:\\\" or \"D:\\\""
   ]
  },
  {
   "cell_type": "code",
   "execution_count": 3,
   "id": "4d581377",
   "metadata": {},
   "outputs": [
    {
     "data": {
      "text/plain": [
       "'C:\\\\Users\\\\panka\\\\Desktop\\\\iNeuron\\\\Assignments'"
      ]
     },
     "execution_count": 3,
     "metadata": {},
     "output_type": "execute_result"
    }
   ],
   "source": [
    "# Answer 3\n",
    "import os\n",
    "#os.getcwd() returns a unicode string representing the current working directory.\n",
    "os.getcwd()\n",
    "#os.chdir() change the current working directory to the specified path."
   ]
  },
  {
   "cell_type": "code",
   "execution_count": 4,
   "id": "91631ae3",
   "metadata": {},
   "outputs": [
    {
     "name": "stdout",
     "output_type": "stream",
     "text": [
      "C:\\Users\\panka\\Desktop\\iNeuron\\Assignments\n",
      "C:\\Users\\panka\\Desktop\\iNeuron\n"
     ]
    }
   ],
   "source": [
    "# Answer 4\n",
    "# The . is the current directory, while .. signifies the parent directory.\n",
    "print(os.path.abspath('.'))\n",
    "print(os.path.abspath('..'))"
   ]
  },
  {
   "cell_type": "code",
   "execution_count": 5,
   "id": "8d0b78c5",
   "metadata": {},
   "outputs": [],
   "source": [
    "# Answer 5\n",
    "#C:\\bacon\\eggs is the directory name and spam.txt is base name. "
   ]
  },
  {
   "cell_type": "code",
   "execution_count": 6,
   "id": "c0b6cd9f",
   "metadata": {},
   "outputs": [],
   "source": [
    "# Answer 6\n",
    "# read(), write() and append() are the three “mode” arguments that can be passed to the open() function."
   ]
  },
  {
   "cell_type": "code",
   "execution_count": 7,
   "id": "b0c69711",
   "metadata": {},
   "outputs": [],
   "source": [
    "# Answer 7\n",
    "# If an existing file is opened in write mode, existing file will be overwritten."
   ]
  },
  {
   "cell_type": "code",
   "execution_count": 8,
   "id": "2c5696e3",
   "metadata": {},
   "outputs": [],
   "source": [
    "# Answer 8\n",
    "# read() reads the entire contents of the file into a string whereas readlines() returns a list of lines (strings)."
   ]
  },
  {
   "cell_type": "code",
   "execution_count": 9,
   "id": "b7e2783f",
   "metadata": {},
   "outputs": [],
   "source": [
    "# Answer 9\n",
    "# A shelf value resembles a dictionary value; it has keys and values, along with keys() and values() methods."
   ]
  },
  {
   "cell_type": "code",
   "execution_count": null,
   "id": "f58fe60d",
   "metadata": {},
   "outputs": [],
   "source": []
  }
 ],
 "metadata": {
  "kernelspec": {
   "display_name": "Python 3",
   "language": "python",
   "name": "python3"
  },
  "language_info": {
   "codemirror_mode": {
    "name": "ipython",
    "version": 3
   },
   "file_extension": ".py",
   "mimetype": "text/x-python",
   "name": "python",
   "nbconvert_exporter": "python",
   "pygments_lexer": "ipython3",
   "version": "3.8.8"
  }
 },
 "nbformat": 4,
 "nbformat_minor": 5
}
