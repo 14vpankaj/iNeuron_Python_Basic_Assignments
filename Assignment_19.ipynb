{
 "cells": [
  {
   "cell_type": "markdown",
   "id": "3f9ccea6",
   "metadata": {},
   "source": [
    "# Answer 1"
   ]
  },
  {
   "cell_type": "code",
   "execution_count": 23,
   "id": "368e6afb",
   "metadata": {},
   "outputs": [
    {
     "name": "stdout",
     "output_type": "stream",
     "text": [
      "<class '__main__.Thing'>\n"
     ]
    }
   ],
   "source": [
    "class Thing:\n",
    "    def __init__(self):\n",
    "        pass\n",
    "print(Thing)"
   ]
  },
  {
   "cell_type": "code",
   "execution_count": 22,
   "id": "e74cd14c",
   "metadata": {},
   "outputs": [
    {
     "name": "stdout",
     "output_type": "stream",
     "text": [
      "<__main__.Thing object at 0x0000023D6B055370>\n"
     ]
    }
   ],
   "source": [
    "example = Thing()\n",
    "print(example)"
   ]
  },
  {
   "cell_type": "markdown",
   "id": "97ea18f0",
   "metadata": {},
   "source": [
    "# Answer 2"
   ]
  },
  {
   "cell_type": "code",
   "execution_count": 27,
   "id": "67f146bf",
   "metadata": {},
   "outputs": [
    {
     "data": {
      "text/plain": [
       "'abc'"
      ]
     },
     "execution_count": 27,
     "metadata": {},
     "output_type": "execute_result"
    }
   ],
   "source": [
    "class Thing2:\n",
    "    \n",
    "    def __init__(self):\n",
    "        self.value='abc'\n",
    "        \n",
    "    def show(self):\n",
    "        return self.value\n",
    "        \n",
    "\n",
    "thing = Thing2()\n",
    "thing.show()"
   ]
  },
  {
   "cell_type": "markdown",
   "id": "47cc3623",
   "metadata": {},
   "source": [
    "# Answer 3"
   ]
  },
  {
   "cell_type": "code",
   "execution_count": 5,
   "id": "8e4c7791",
   "metadata": {},
   "outputs": [
    {
     "name": "stdout",
     "output_type": "stream",
     "text": [
      "xyz\n"
     ]
    }
   ],
   "source": [
    "class Thing3:\n",
    "    def __init__(self,letter):\n",
    "        self.letter = letter\n",
    "    def letters(self):\n",
    "        print(self.letter)\n",
    "Thing3('xyz').letters()        "
   ]
  },
  {
   "cell_type": "markdown",
   "id": "85a67ad8",
   "metadata": {},
   "source": [
    "# Answer 4"
   ]
  },
  {
   "cell_type": "code",
   "execution_count": 13,
   "id": "dd527ac7",
   "metadata": {},
   "outputs": [],
   "source": [
    "class Element:\n",
    "    def __init__(self,name,symbol,number):\n",
    "        self.name = name\n",
    "        self.symbol = symbol\n",
    "        self.number = number\n",
    "    def hydro(self):\n",
    "        print(self.name,self.symbol,self.number)"
   ]
  },
  {
   "cell_type": "code",
   "execution_count": 28,
   "id": "3fe58dfb",
   "metadata": {},
   "outputs": [
    {
     "name": "stdout",
     "output_type": "stream",
     "text": [
      "Hydrogen H 1\n"
     ]
    }
   ],
   "source": [
    "object = Element('Hydrogen', 'H', 1)\n",
    "object.hydro()"
   ]
  },
  {
   "cell_type": "markdown",
   "id": "95eb1d37",
   "metadata": {},
   "source": [
    "# Answer 5"
   ]
  },
  {
   "cell_type": "code",
   "execution_count": 30,
   "id": "a52e8eb7",
   "metadata": {},
   "outputs": [
    {
     "name": "stdout",
     "output_type": "stream",
     "text": [
      "Hydrogen H 1\n"
     ]
    }
   ],
   "source": [
    "dict = {'name':'Hydrogen', 'symbol':'H','number': 1}\n",
    "hydrogen = Element(**dict)\n",
    "hydrogen.hydro()"
   ]
  },
  {
   "cell_type": "markdown",
   "id": "b75e2e65",
   "metadata": {},
   "source": [
    "# Answer 6"
   ]
  },
  {
   "cell_type": "code",
   "execution_count": 35,
   "id": "83957479",
   "metadata": {},
   "outputs": [
    {
     "data": {
      "text/plain": [
       "('Hydrogen', 'H', 1)"
      ]
     },
     "execution_count": 35,
     "metadata": {},
     "output_type": "execute_result"
    }
   ],
   "source": [
    "class Element:\n",
    "    def __init__(self, name, symbol, number):\n",
    "        self.name = name\n",
    "        self.symbol = symbol\n",
    "        self. number = number\n",
    "    def dump(self):\n",
    "        return (self.name, self.symbol, self.number) \n",
    "\n",
    "hydrogen = Element('Hydrogen', 'H', 1)\n",
    "hydrogen.dump()"
   ]
  },
  {
   "cell_type": "markdown",
   "id": "033fe54a",
   "metadata": {},
   "source": [
    "# Answer 7"
   ]
  },
  {
   "cell_type": "code",
   "execution_count": 36,
   "id": "601094d0",
   "metadata": {},
   "outputs": [
    {
     "name": "stdout",
     "output_type": "stream",
     "text": [
      "This is Hydrogen Element\n"
     ]
    }
   ],
   "source": [
    "class Element:\n",
    "    \n",
    "    def __init__(self,name,symbol,number):\n",
    "        self.element=name\n",
    "        self.symbol=symbol\n",
    "        self.atmnum=number\n",
    "    \n",
    "    def __str__(self):\n",
    "        return \"This is Hydrogen Element\"\n",
    "        \n",
    "hydrogen=Element('Hydrogen','H',1)\n",
    "print(hydrogen)"
   ]
  },
  {
   "cell_type": "markdown",
   "id": "f9fb9131",
   "metadata": {},
   "source": [
    "# Answer 8"
   ]
  },
  {
   "cell_type": "code",
   "execution_count": 39,
   "id": "d42d4526",
   "metadata": {},
   "outputs": [
    {
     "data": {
      "text/plain": [
       "'H'"
      ]
     },
     "execution_count": 39,
     "metadata": {},
     "output_type": "execute_result"
    }
   ],
   "source": [
    "class Element(): \n",
    "    def __init__(self ,name,symbol,number):\n",
    "        self.__name = name\n",
    "        self.__symbol = symbol\n",
    "        self.__number = number\n",
    "    @property\n",
    "    def name(self):\n",
    "        return (self.__name)\n",
    "    @property\n",
    "    def symbol(self):\n",
    "        return (self.__symbol)\n",
    "    @property\n",
    "    def number(self):\n",
    "        return (self.__number)\n",
    "    \n",
    "hydrogen=Element('Hydrogen','H',1)\n",
    "hydrogen.symbol"
   ]
  },
  {
   "cell_type": "markdown",
   "id": "c5d4d6e2",
   "metadata": {},
   "source": [
    "# Answer"
   ]
  },
  {
   "cell_type": "code",
   "execution_count": 45,
   "id": "9a0fee7a",
   "metadata": {},
   "outputs": [],
   "source": [
    "class Bear:    \n",
    "    def __init__(self):\n",
    "        pass\n",
    "    def eats(self):\n",
    "        return (\"Berries\")\n",
    "    \n",
    "class Rabbit:\n",
    "    def __init__(self):\n",
    "        pass\n",
    "    def eats(self):\n",
    "        return (\"Clover\")\n",
    "\n",
    "class Octothorpe:    \n",
    "    def __init__(self):\n",
    "        pass\n",
    "    def eats(self):\n",
    "        return (\"Campers\")"
   ]
  },
  {
   "cell_type": "code",
   "execution_count": 46,
   "id": "2435afc4",
   "metadata": {},
   "outputs": [
    {
     "data": {
      "text/plain": [
       "'Berries'"
      ]
     },
     "execution_count": 46,
     "metadata": {},
     "output_type": "execute_result"
    }
   ],
   "source": [
    "bear = Bear()\n",
    "bear.eats()"
   ]
  },
  {
   "cell_type": "code",
   "execution_count": 47,
   "id": "9f019bfa",
   "metadata": {},
   "outputs": [
    {
     "data": {
      "text/plain": [
       "'Clover'"
      ]
     },
     "execution_count": 47,
     "metadata": {},
     "output_type": "execute_result"
    }
   ],
   "source": [
    "rabbit = Rabbit()\n",
    "rabbit.eats()"
   ]
  },
  {
   "cell_type": "code",
   "execution_count": 48,
   "id": "44cfbcae",
   "metadata": {},
   "outputs": [
    {
     "data": {
      "text/plain": [
       "'Campers'"
      ]
     },
     "execution_count": 48,
     "metadata": {},
     "output_type": "execute_result"
    }
   ],
   "source": [
    "octo = Octothorpe()\n",
    "octo.eats()"
   ]
  },
  {
   "cell_type": "markdown",
   "id": "5b1827b9",
   "metadata": {},
   "source": [
    "# Answer 10"
   ]
  },
  {
   "cell_type": "code",
   "execution_count": 49,
   "id": "0b8ff380",
   "metadata": {},
   "outputs": [
    {
     "data": {
      "text/plain": [
       "(\"'disintegrate' (Laser)\", \"'crush' (Claw)\", \"'ring' (SmartPhone)\")"
      ]
     },
     "execution_count": 49,
     "metadata": {},
     "output_type": "execute_result"
    }
   ],
   "source": [
    "class Laser:    \n",
    "    def __init__(self):\n",
    "        pass\n",
    "    def does(self):\n",
    "        return (r\"'disintegrate' (Laser)\")\n",
    "    def __str__(self):\n",
    "        return \"It is Laser class\"\n",
    "    \n",
    "class Claw:\n",
    "    def __init__(self):\n",
    "        pass\n",
    "    def does(self):\n",
    "        return (r\"'crush' (Claw)\")\n",
    "    def __str__(self):\n",
    "        return \"It is Claw class\"\n",
    "\n",
    "\n",
    "class SmartPhone:\n",
    "    def __init__(self):\n",
    "        pass\n",
    "    def does(self):\n",
    "        return (r\"'ring' (SmartPhone)\")\n",
    "    def __str__(self):\n",
    "        return \"It is Smartphone class\"\n",
    "    \n",
    "class Robot:\n",
    "    \n",
    "    rl=Laser()\n",
    "    rc=Claw()\n",
    "    rs=SmartPhone()\n",
    "    \n",
    "    def __init__(self):\n",
    "        pass\n",
    "    def does(self):\n",
    "        return (self.rl.does(),self.rc.does(),self.rs.does())\n",
    "    def __str__(self):\n",
    "        return \"It is Robot class\"\n",
    "\n",
    "rb=Robot()\n",
    "rb.does()"
   ]
  },
  {
   "cell_type": "code",
   "execution_count": null,
   "id": "3e4a997b",
   "metadata": {},
   "outputs": [],
   "source": []
  }
 ],
 "metadata": {
  "kernelspec": {
   "display_name": "Python 3",
   "language": "python",
   "name": "python3"
  },
  "language_info": {
   "codemirror_mode": {
    "name": "ipython",
    "version": 3
   },
   "file_extension": ".py",
   "mimetype": "text/x-python",
   "name": "python",
   "nbconvert_exporter": "python",
   "pygments_lexer": "ipython3",
   "version": "3.8.8"
  }
 },
 "nbformat": 4,
 "nbformat_minor": 5
}
