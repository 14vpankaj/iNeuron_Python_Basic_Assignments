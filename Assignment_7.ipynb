{
 "cells": [
  {
   "cell_type": "code",
   "execution_count": 1,
   "id": "65e2ec07",
   "metadata": {},
   "outputs": [],
   "source": [
    "# Answer (1)\n",
    "# The re.compile() function returns Regex objects."
   ]
  },
  {
   "cell_type": "code",
   "execution_count": 2,
   "id": "26f7aec1",
   "metadata": {},
   "outputs": [],
   "source": [
    "# Answer (2)\n",
    "# To abstain the backslashes from escaping, raw string are used."
   ]
  },
  {
   "cell_type": "code",
   "execution_count": 3,
   "id": "207e9f0d",
   "metadata": {},
   "outputs": [],
   "source": [
    "# Answer (3)\n",
    "# The search() method returns the Matched objects."
   ]
  },
  {
   "cell_type": "code",
   "execution_count": 4,
   "id": "7cd01d51",
   "metadata": {},
   "outputs": [],
   "source": [
    "# Answer (4)\n",
    "# The group() method returns a actual strings that matches the pattern."
   ]
  },
  {
   "cell_type": "code",
   "execution_count": 5,
   "id": "be593dbf",
   "metadata": {},
   "outputs": [],
   "source": [
    "# Answer (5)\n",
    "# group(0) covers the entire match\n",
    "# group(1) covers the first set of parentheses\n",
    "# group(2) covers the second set of parentheses."
   ]
  },
  {
   "cell_type": "code",
   "execution_count": 6,
   "id": "5faa71ee",
   "metadata": {},
   "outputs": [],
   "source": [
    "# Answer (6)\n",
    "# By escaping with a backslash: \\., \\(, and \\), we can you tell a regex that we want it to fit real parentheses and periods."
   ]
  },
  {
   "cell_type": "code",
   "execution_count": 7,
   "id": "5c17099d",
   "metadata": {},
   "outputs": [],
   "source": [
    "# Answer (7)\n",
    "# The findall() method returns a string list, if the regex has no groups.\n",
    "# If the regex has groups, a list of tuples of strings is returned."
   ]
  },
  {
   "cell_type": "code",
   "execution_count": 8,
   "id": "33c6113b",
   "metadata": {},
   "outputs": [],
   "source": [
    "# Answer (8)\n",
    "# In standard expressions, | character means “either, or” between two groups"
   ]
  },
  {
   "cell_type": "code",
   "execution_count": 9,
   "id": "ddb33cac",
   "metadata": {},
   "outputs": [],
   "source": [
    "# Answer (9)\n",
    "# In regular expressions, the ? character stands for “match zero or one of the preceding group”"
   ]
  },
  {
   "cell_type": "code",
   "execution_count": 10,
   "id": "0714879d",
   "metadata": {},
   "outputs": [],
   "source": [
    "# Answer (10)\n",
    "# In regular expressions,The + matches one or more. The * matches zero or more."
   ]
  },
  {
   "cell_type": "code",
   "execution_count": 11,
   "id": "62cf1c10",
   "metadata": {},
   "outputs": [],
   "source": [
    "# Answer (11)\n",
    "# The {3} matches exactly three instances of the preceding group. The {3,5} matches between three and five instances."
   ]
  },
  {
   "cell_type": "code",
   "execution_count": 12,
   "id": "dfe92b24",
   "metadata": {},
   "outputs": [],
   "source": [
    "# Answer (12)\n",
    "# The \\d, \\w, and \\s shorthand character classes signify a single digit, word, or space character, respectively."
   ]
  },
  {
   "cell_type": "code",
   "execution_count": 13,
   "id": "b3d2f974",
   "metadata": {},
   "outputs": [],
   "source": [
    "# Answer (13)\n",
    "# \\D, \\W, and \\S shorthand character classes signify a single character that is not a digit, word, or space character, respectively."
   ]
  },
  {
   "cell_type": "code",
   "execution_count": 14,
   "id": "16c033c3",
   "metadata": {},
   "outputs": [],
   "source": [
    "# Answer (14)\n",
    "# .*? performs a nongreedy match"
   ]
  },
  {
   "cell_type": "code",
   "execution_count": 15,
   "id": "afcd934d",
   "metadata": {},
   "outputs": [
    {
     "name": "stdout",
     "output_type": "stream",
     "text": [
      "<re.Match object; span=(0, 3), match='5af'>\n"
     ]
    }
   ],
   "source": [
    "# Answer (15)\n",
    "import re\n",
    "#re.search('[a-z0-9]*', string)\n",
    "print(re.search('[0-9a-z]*', '5afD5jFD'))"
   ]
  },
  {
   "cell_type": "code",
   "execution_count": 16,
   "id": "c3f76d87",
   "metadata": {},
   "outputs": [
    {
     "name": "stdout",
     "output_type": "stream",
     "text": [
      "<re.Match object; span=(8, 18), match='Astrophile'>\n"
     ]
    }
   ],
   "source": [
    "# Answer (16)\n",
    "# Passing re.I or re.IGNORECASE as the second argument will make the matching case insensitive.\n",
    "print(re.search(r'astrophile', 'I am an Astrophile',re.I))\n"
   ]
  },
  {
   "cell_type": "code",
   "execution_count": 17,
   "id": "a271ad26",
   "metadata": {},
   "outputs": [],
   "source": [
    "# Answer (17)\n",
    "# . character normally matches any character except the newline character.\n",
    "# If re.DOTALL is passed, then the dot will also match newline characters."
   ]
  },
  {
   "cell_type": "code",
   "execution_count": 18,
   "id": "3827a4b9",
   "metadata": {},
   "outputs": [
    {
     "name": "stdout",
     "output_type": "stream",
     "text": [
      "X drummers, X pipers, five rings, X hen\n"
     ]
    }
   ],
   "source": [
    "# Answer (18)\n",
    "numReg = re.compile(r'\\d+')\n",
    "print(numReg.sub('X', '11 drummers, 10 pipers, five rings, 4 hen'))"
   ]
  },
  {
   "cell_type": "code",
   "execution_count": 19,
   "id": "9101b826",
   "metadata": {},
   "outputs": [],
   "source": [
    "# Answer (19)\n",
    "# The re.VERBOSE argument allows you to add whitespace and comments to the string passed to re.compile()."
   ]
  },
  {
   "cell_type": "code",
   "execution_count": 20,
   "id": "821d68be",
   "metadata": {},
   "outputs": [
    {
     "name": "stdout",
     "output_type": "stream",
     "text": [
      "<re.Match object; span=(0, 2), match='42'>\n",
      "<re.Match object; span=(0, 5), match='1,234'>\n",
      "<re.Match object; span=(0, 9), match='6,368,745'>\n",
      "None\n",
      "None\n"
     ]
    }
   ],
   "source": [
    "# Answer (20)\n",
    "\n",
    "print(re.search(r'^\\d{1,3}(,\\d{3})*$','42'))\n",
    "print(re.search(r'^\\d{1,3}(,\\d{3})*$','1,234'))\n",
    "print(re.search(r'^\\d{1,3}(,\\d{3})*$','6,368,745'))\n",
    "print(re.search(r'^\\d{1,3}(,\\d{3})*$','12,34,567'))\n",
    "print(re.search(r'^\\d{1,3}(,\\d{3})*$','1234'))"
   ]
  },
  {
   "cell_type": "code",
   "execution_count": 21,
   "id": "5606feae",
   "metadata": {},
   "outputs": [
    {
     "name": "stdout",
     "output_type": "stream",
     "text": [
      "<re.Match object; span=(0, 15), match='Haruto Watanabe'>\n",
      "<re.Match object; span=(0, 14), match='Alice Watanabe'>\n",
      "<re.Match object; span=(0, 16), match='RoboCop Watanabe'>\n",
      "None\n",
      "None\n",
      "None\n",
      "None\n"
     ]
    }
   ],
   "source": [
    "# Answer (21)\n",
    "print(re.search(r'[A-Z][a-zA-Z]*\\sWatanabe','Haruto Watanabe' ))\n",
    "print(re.search(r'[A-Z][a-zA-Z]*\\sWatanabe','Alice Watanabe' ))\n",
    "print(re.search(r'[A-Z][a-zA-Z]*\\sWatanabe','RoboCop Watanabe' ))\n",
    "print(re.search(r'[A-Z][a-zA-Z]*\\sWatanabe','haruto Watanabe' ))\n",
    "print(re.search(r'[A-Z][a-zA-Z]*\\sWatanabe','Mr. Watanabe' ))\n",
    "print(re.search(r'[A-Z][a-zA-Z]*\\sWatanabe','Watanabe' ))\n",
    "print(re.search(r'[A-Z][a-zA-Z]*\\sWatanabe','Haruto watanabe' ))"
   ]
  },
  {
   "cell_type": "code",
   "execution_count": 22,
   "id": "88370ccf",
   "metadata": {},
   "outputs": [
    {
     "name": "stdout",
     "output_type": "stream",
     "text": [
      "<re.Match object; span=(0, 18), match='Alice eats apples.'>\n",
      "<re.Match object; span=(0, 14), match='Bob pets cats.'>\n",
      "<re.Match object; span=(0, 23), match='Carol throws baseballs.'>\n",
      "<re.Match object; span=(0, 20), match='Alice throws Apples.'>\n",
      "<re.Match object; span=(0, 14), match='BOB EATS CATS.'>\n",
      "None\n",
      "None\n",
      "None\n"
     ]
    }
   ],
   "source": [
    "# Answer (22)\n",
    "print(re.search(r'(^alice|^bob|^carol)\\s(eats|pets|throws)\\s(apples|cats|baseballs)\\.$', 'Alice eats apples.',re.I))\n",
    "print(re.search(r'(^alice|^bob|^carol)\\s(eats|pets|throws)\\s(apples|cats|baseballs)\\.$', 'Bob pets cats.',re.I))\n",
    "print(re.search(r'(^alice|^bob|^carol)\\s(eats|pets|throws)\\s(apples|cats|baseballs)\\.$', 'Carol throws baseballs.',re.I))\n",
    "print(re.search(r'(^alice|^bob|^carol)\\s(eats|pets|throws)\\s(apples|cats|baseballs)\\.$', 'Alice throws Apples.',re.I))\n",
    "print(re.search(r'(^alice|^bob|^carol)\\s(eats|pets|throws)\\s(apples|cats|baseballs)\\.$', 'BOB EATS CATS.',re.I))\n",
    "print(re.search(r'(^alice|^bob|^carol)\\s(eats|pets|throws)\\s(apples|cats|baseballs)\\.$', 'RoboCop eats apples.',re.I))\n",
    "print(re.search(r'(^alice|^bob|^carol)\\s(eats|pets|throws)\\s(apples|cats|baseballs)\\.$', 'ALICE THROWS FOOTBALLS.',re.I))\n",
    "print(re.search(r'(^alice|^bob|^carol)\\s(eats|pets|throws)\\s(apples|cats|baseballs)\\.$', 'Carol eats 7 cats.',re.I))"
   ]
  },
  {
   "cell_type": "code",
   "execution_count": null,
   "id": "a8e7fa8b",
   "metadata": {},
   "outputs": [],
   "source": []
  }
 ],
 "metadata": {
  "kernelspec": {
   "display_name": "Python 3",
   "language": "python",
   "name": "python3"
  },
  "language_info": {
   "codemirror_mode": {
    "name": "ipython",
    "version": 3
   },
   "file_extension": ".py",
   "mimetype": "text/x-python",
   "name": "python",
   "nbconvert_exporter": "python",
   "pygments_lexer": "ipython3",
   "version": "3.8.8"
  }
 },
 "nbformat": 4,
 "nbformat_minor": 5
}
