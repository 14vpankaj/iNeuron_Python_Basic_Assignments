{
 "cells": [
  {
   "cell_type": "markdown",
   "id": "50fb95b2",
   "metadata": {},
   "source": [
    "# Answer 1"
   ]
  },
  {
   "cell_type": "code",
   "execution_count": 2,
   "id": "8d42c68f",
   "metadata": {},
   "outputs": [
    {
     "name": "stdout",
     "output_type": "stream",
     "text": [
      "Enter a positive integer:-2\n"
     ]
    },
    {
     "ename": "AssertionError",
     "evalue": "Integer value is is not less than 10",
     "output_type": "error",
     "traceback": [
      "\u001b[1;31m---------------------------------------------------------------------------\u001b[0m",
      "\u001b[1;31mAssertionError\u001b[0m                            Traceback (most recent call last)",
      "\u001b[1;32m<ipython-input-2-6c0501549ddd>\u001b[0m in \u001b[0;36m<module>\u001b[1;34m\u001b[0m\n\u001b[0;32m      1\u001b[0m \u001b[0mspam\u001b[0m \u001b[1;33m=\u001b[0m \u001b[0mint\u001b[0m\u001b[1;33m(\u001b[0m\u001b[0minput\u001b[0m\u001b[1;33m(\u001b[0m\u001b[1;34m\"Enter a positive integer:\"\u001b[0m\u001b[1;33m)\u001b[0m\u001b[1;33m)\u001b[0m\u001b[1;33m\u001b[0m\u001b[1;33m\u001b[0m\u001b[0m\n\u001b[1;32m----> 2\u001b[1;33m \u001b[1;32massert\u001b[0m \u001b[0mspam\u001b[0m \u001b[1;33m>\u001b[0m \u001b[1;36m0\u001b[0m\u001b[1;33m,\u001b[0m \u001b[1;34m'Integer value is is not less than 10'\u001b[0m\u001b[1;33m\u001b[0m\u001b[1;33m\u001b[0m\u001b[0m\n\u001b[0m",
      "\u001b[1;31mAssertionError\u001b[0m: Integer value is is not less than 10"
     ]
    }
   ],
   "source": [
    "spam = int(input(\"Enter a positive integer:\"))\n",
    "assert spam > 0, 'Integer value is is not less than 10'"
   ]
  },
  {
   "cell_type": "markdown",
   "id": "859c42c3",
   "metadata": {},
   "source": [
    "# Answer 2"
   ]
  },
  {
   "cell_type": "code",
   "execution_count": 3,
   "id": "3112fe32",
   "metadata": {},
   "outputs": [
    {
     "ename": "AssertionError",
     "evalue": "STAR and star are not same values",
     "output_type": "error",
     "traceback": [
      "\u001b[1;31m---------------------------------------------------------------------------\u001b[0m",
      "\u001b[1;31mAssertionError\u001b[0m                            Traceback (most recent call last)",
      "\u001b[1;32m<ipython-input-3-fa2574fc3610>\u001b[0m in \u001b[0;36m<module>\u001b[1;34m\u001b[0m\n\u001b[0;32m      1\u001b[0m \u001b[0meggs\u001b[0m\u001b[1;33m=\u001b[0m\u001b[1;34m'STAR'\u001b[0m\u001b[1;33m\u001b[0m\u001b[1;33m\u001b[0m\u001b[0m\n\u001b[0;32m      2\u001b[0m \u001b[0mbacon\u001b[0m\u001b[1;33m=\u001b[0m\u001b[1;34m'star'\u001b[0m\u001b[1;33m\u001b[0m\u001b[1;33m\u001b[0m\u001b[0m\n\u001b[1;32m----> 3\u001b[1;33m \u001b[1;32massert\u001b[0m \u001b[0meggs\u001b[0m\u001b[1;33m==\u001b[0m\u001b[0mbacon\u001b[0m\u001b[1;33m,\u001b[0m \u001b[1;34mf'{eggs} and {bacon} are not same values'\u001b[0m\u001b[1;33m\u001b[0m\u001b[1;33m\u001b[0m\u001b[0m\n\u001b[0m",
      "\u001b[1;31mAssertionError\u001b[0m: STAR and star are not same values"
     ]
    }
   ],
   "source": [
    "eggs='STAR'\n",
    "bacon='star'\n",
    "assert eggs==bacon, f'{eggs} and {bacon} are not same values'"
   ]
  },
  {
   "cell_type": "markdown",
   "id": "9dd40bf5",
   "metadata": {},
   "source": [
    "# Answer 3"
   ]
  },
  {
   "cell_type": "code",
   "execution_count": 4,
   "id": "8ddb98c9",
   "metadata": {},
   "outputs": [
    {
     "ename": "AssertionError",
     "evalue": "it throws an AssertionError every time",
     "output_type": "error",
     "traceback": [
      "\u001b[1;31m---------------------------------------------------------------------------\u001b[0m",
      "\u001b[1;31mAssertionError\u001b[0m                            Traceback (most recent call last)",
      "\u001b[1;32m<ipython-input-4-931a2f380321>\u001b[0m in \u001b[0;36m<module>\u001b[1;34m\u001b[0m\n\u001b[1;32m----> 1\u001b[1;33m \u001b[1;32massert\u001b[0m \u001b[1;32mFalse\u001b[0m\u001b[1;33m,\u001b[0m \u001b[1;34m'it throws an AssertionError every time'\u001b[0m\u001b[1;33m\u001b[0m\u001b[1;33m\u001b[0m\u001b[0m\n\u001b[0m",
      "\u001b[1;31mAssertionError\u001b[0m: it throws an AssertionError every time"
     ]
    }
   ],
   "source": [
    "assert False, 'it throws an AssertionError every time'"
   ]
  },
  {
   "cell_type": "markdown",
   "id": "05bd5cab",
   "metadata": {},
   "source": [
    "# Answer 4"
   ]
  },
  {
   "cell_type": "code",
   "execution_count": 5,
   "id": "4583491d",
   "metadata": {},
   "outputs": [],
   "source": [
    "import logging\n",
    "logging.basicConfig(level=logging.DEBUG, format=' %(asctime)s -  %(levelname)s -  %(message)s')\n",
    "logging.disable()"
   ]
  },
  {
   "cell_type": "markdown",
   "id": "fc57b07e",
   "metadata": {},
   "source": [
    "# Answer 5"
   ]
  },
  {
   "cell_type": "code",
   "execution_count": 6,
   "id": "9704d96e",
   "metadata": {},
   "outputs": [],
   "source": [
    "import logging\n",
    "logging.basicConfig(filename='programLog.txt',level=logging.DEBUG, format='%(asctime)s - %(levelname)s -%(message)s')"
   ]
  },
  {
   "cell_type": "markdown",
   "id": "75f5d30a",
   "metadata": {},
   "source": [
    "# Answer 6"
   ]
  },
  {
   "cell_type": "markdown",
   "id": "f278382a",
   "metadata": {},
   "source": [
    "CRITICAL, ERROR, WARNING, INFO and DEBUG are the five logging levels."
   ]
  },
  {
   "cell_type": "markdown",
   "id": "5b912584",
   "metadata": {},
   "source": [
    "# Answer 7"
   ]
  },
  {
   "cell_type": "code",
   "execution_count": 7,
   "id": "6f11f7d7",
   "metadata": {},
   "outputs": [],
   "source": [
    "import logging\n",
    "logging.disable()"
   ]
  },
  {
   "cell_type": "markdown",
   "id": "b7b66a22",
   "metadata": {},
   "source": [
    "# Answer 8"
   ]
  },
  {
   "cell_type": "markdown",
   "id": "ae60e4bf",
   "metadata": {},
   "source": [
    "One of the biggest advantages of proper logging is that you can categorize messages and turn them on or off depending on what you need. For example, it might be useful to turn on debugging level messages for a certain part of the project, but tone it down for other parts, so as not to be taken over by information overload and to easily concentrate on the task for which you need logging.\n",
    "Also, logs are configurable. You can easily filter them, send them to files, format them, add timestamps, and any other things you might need on a global basis. Print statements are not easily managed."
   ]
  },
  {
   "cell_type": "markdown",
   "id": "050c6f91",
   "metadata": {},
   "source": [
    "# Answer 9"
   ]
  },
  {
   "cell_type": "markdown",
   "id": "7d8cbfce",
   "metadata": {},
   "source": [
    "Step Over: The currently-selected line is executed and suspends on the next executable line."
   ]
  },
  {
   "cell_type": "markdown",
   "id": "0a5c46e5",
   "metadata": {},
   "source": [
    "Step Into: The next expression on the currently-selected line to be executed is invoked, and execution suspends at the next executable line in the method that is invoked."
   ]
  },
  {
   "cell_type": "markdown",
   "id": "62ca83b8",
   "metadata": {},
   "source": [
    "Step Out: It will first exceute the current function (every line) completly and then take you out of the function where the pointer is at the position of function call."
   ]
  },
  {
   "cell_type": "markdown",
   "id": "4ceb6101",
   "metadata": {},
   "source": [
    "# Answer 10"
   ]
  },
  {
   "cell_type": "markdown",
   "id": "994e0d9f",
   "metadata": {},
   "source": [
    "After reaching the breakpoint, the debugger will stop."
   ]
  },
  {
   "cell_type": "markdown",
   "id": "8e10189a",
   "metadata": {},
   "source": [
    "# Answer 11"
   ]
  },
  {
   "cell_type": "markdown",
   "id": "0b59e4c4",
   "metadata": {},
   "source": [
    "It is a point where the program will stop executing further."
   ]
  },
  {
   "cell_type": "code",
   "execution_count": null,
   "id": "b98e0586",
   "metadata": {},
   "outputs": [],
   "source": []
  }
 ],
 "metadata": {
  "kernelspec": {
   "display_name": "Python 3",
   "language": "python",
   "name": "python3"
  },
  "language_info": {
   "codemirror_mode": {
    "name": "ipython",
    "version": 3
   },
   "file_extension": ".py",
   "mimetype": "text/x-python",
   "name": "python",
   "nbconvert_exporter": "python",
   "pygments_lexer": "ipython3",
   "version": "3.8.8"
  }
 },
 "nbformat": 4,
 "nbformat_minor": 5
}
