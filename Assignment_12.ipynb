{
 "cells": [
  {
   "cell_type": "markdown",
   "id": "67a98fb3",
   "metadata": {},
   "source": [
    "# Answer 1"
   ]
  },
  {
   "cell_type": "markdown",
   "id": "9c71e147",
   "metadata": {},
   "source": [
    "These files will be opened in binary mode., read binary (rb) for PdfFileREader() and write binary (wb) PdfFileWriter()"
   ]
  },
  {
   "cell_type": "code",
   "execution_count": 1,
   "id": "165ff8f8",
   "metadata": {},
   "outputs": [
    {
     "name": "stdout",
     "output_type": "stream",
     "text": [
      "Requirement already satisfied: PyPDF2 in c:\\users\\panka\\anaconda3\\lib\\site-packages (1.26.0)\n"
     ]
    }
   ],
   "source": [
    "!pip install PyPDF2"
   ]
  },
  {
   "cell_type": "markdown",
   "id": "31efd31d",
   "metadata": {},
   "source": [
    "# Answer 2"
   ]
  },
  {
   "cell_type": "code",
   "execution_count": 2,
   "id": "5b5c878b",
   "metadata": {},
   "outputs": [],
   "source": [
    "#import PyPDF2 as pdf\n",
    "#pdfreaderobj=PdfFileReader(open('<file-name>.pdf','rb'))\n",
    "#pdfreaderobj.getPage(4)"
   ]
  },
  {
   "cell_type": "markdown",
   "id": "e9c28132",
   "metadata": {},
   "source": [
    "# Answer 3"
   ]
  },
  {
   "cell_type": "markdown",
   "id": "1ce7349b",
   "metadata": {},
   "source": [
    "The PdfFileReader.numPages variable stores an integer of the number of pages in the PdfFileReader object"
   ]
  },
  {
   "cell_type": "markdown",
   "id": "8b608822",
   "metadata": {},
   "source": [
    "# Answer 4"
   ]
  },
  {
   "cell_type": "markdown",
   "id": "ee8b3537",
   "metadata": {},
   "source": [
    "To open a encrypted PDF file, it has to be decrypted using decrpyt('<password>')"
   ]
  },
  {
   "cell_type": "code",
   "execution_count": 3,
   "id": "14649572",
   "metadata": {},
   "outputs": [],
   "source": [
    "#pdfreaderobj=PdfFileReader(open('<file-name>.pdf','rb'))\n",
    "#pdfreaderobj.decrypt('swordfish')"
   ]
  },
  {
   "cell_type": "markdown",
   "id": "b1035cf7",
   "metadata": {},
   "source": [
    "# Answer 5"
   ]
  },
  {
   "cell_type": "markdown",
   "id": "bdd3dcd0",
   "metadata": {},
   "source": [
    "The rotateClockwise() and rotateCounterClockwise() methods. The degrees to rotate is passed as an integer argument."
   ]
  },
  {
   "cell_type": "markdown",
   "id": "828f2e61",
   "metadata": {},
   "source": [
    "# Answer 6"
   ]
  },
  {
   "cell_type": "markdown",
   "id": "7cb43504",
   "metadata": {},
   "source": [
    "Paragraph Object : The Document object contains a list of Paragraph objects for the paragraphs in the document. (A new paragraph begins \n",
    "whenever the user presses ENTER or RETURN while typing in a Word document.) A document contains multiple paragraphs. A paragraph begins on a new line and contains multiple runs. "
   ]
  },
  {
   "cell_type": "markdown",
   "id": "d63e139b",
   "metadata": {},
   "source": [
    "Run Objects : Runs are contiguous groups of characters within a paragraph with the same style."
   ]
  },
  {
   "cell_type": "markdown",
   "id": "7c06a994",
   "metadata": {},
   "source": [
    "# Answer 7"
   ]
  },
  {
   "cell_type": "code",
   "execution_count": 4,
   "id": "c3868364",
   "metadata": {},
   "outputs": [],
   "source": [
    "#import docx\n",
    "#doc=Document('<file-name.docx')\n",
    "#doc.paragraphs # This returns the list of Paragraph objects in a word document"
   ]
  },
  {
   "cell_type": "markdown",
   "id": "20851729",
   "metadata": {},
   "source": [
    "# Answer 8"
   ]
  },
  {
   "cell_type": "markdown",
   "id": "d666d773",
   "metadata": {},
   "source": [
    "A Run object has bold, underline,italic,strike and outline variables."
   ]
  },
  {
   "cell_type": "markdown",
   "id": "44c8d723",
   "metadata": {},
   "source": [
    "# Answer 9"
   ]
  },
  {
   "cell_type": "markdown",
   "id": "bb099ddc",
   "metadata": {},
   "source": [
    "If the Bold variable is set to False, the variable is always disabled.If the Bold variable is set to True, the variable is always enabled, no matter what other styles are applied to the run. If the Bold variable is set to none, defaults to whatever the run’s style is set to."
   ]
  },
  {
   "cell_type": "markdown",
   "id": "90e122b7",
   "metadata": {},
   "source": [
    "# Answer 10"
   ]
  },
  {
   "cell_type": "markdown",
   "id": "e48d6b34",
   "metadata": {},
   "source": [
    "By Calling the docx.Document() function."
   ]
  },
  {
   "cell_type": "markdown",
   "id": "ae9a5f33",
   "metadata": {},
   "source": [
    "# Answer 11"
   ]
  },
  {
   "cell_type": "code",
   "execution_count": 5,
   "id": "558a20bd",
   "metadata": {},
   "outputs": [],
   "source": [
    "import docx\n",
    "doc = docx.Document()\n",
    "\n",
    "doc.add_paragraph('Hello there!')\n",
    "doc.save('hellothere.docx')"
   ]
  },
  {
   "cell_type": "markdown",
   "id": "8e4c69db",
   "metadata": {},
   "source": [
    "# Answer 12"
   ]
  },
  {
   "cell_type": "markdown",
   "id": "55b0266b",
   "metadata": {},
   "source": [
    "The integer 0 makes the heading the Title style, which is used for the top of the document. Integers 1 to 4 are for various heading levels, with 1 being the main heading and 4 the lowest subheading."
   ]
  },
  {
   "cell_type": "code",
   "execution_count": null,
   "id": "44e63685",
   "metadata": {},
   "outputs": [],
   "source": []
  }
 ],
 "metadata": {
  "kernelspec": {
   "display_name": "Python 3",
   "language": "python",
   "name": "python3"
  },
  "language_info": {
   "codemirror_mode": {
    "name": "ipython",
    "version": 3
   },
   "file_extension": ".py",
   "mimetype": "text/x-python",
   "name": "python",
   "nbconvert_exporter": "python",
   "pygments_lexer": "ipython3",
   "version": "3.8.8"
  }
 },
 "nbformat": 4,
 "nbformat_minor": 5
}
