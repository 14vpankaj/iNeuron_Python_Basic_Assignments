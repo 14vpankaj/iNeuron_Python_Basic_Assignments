{
 "cells": [
  {
   "cell_type": "code",
   "execution_count": 1,
   "id": "a0654562",
   "metadata": {},
   "outputs": [],
   "source": [
    "# Answer 1\n",
    "\n",
    "# shutil.copy() copiies data and mode bits (\"cp src dst\"). Return the file's destination.\n",
    "# shutil.copytree() recursively copies a directory tree and return the destination directory."
   ]
  },
  {
   "cell_type": "code",
   "execution_count": 2,
   "id": "ddc4378b",
   "metadata": {},
   "outputs": [],
   "source": [
    "# Answer 2\n",
    "# os.rename() is used to rename files."
   ]
  },
  {
   "cell_type": "markdown",
   "id": "4dea7af8",
   "metadata": {},
   "source": [
    "# Answer 3\n",
    "The send2trash function will move a file or folder to the recycle bin, while shutil functions will permanently delete files and folders."
   ]
  },
  {
   "cell_type": "code",
   "execution_count": 3,
   "id": "dd832a5f",
   "metadata": {},
   "outputs": [],
   "source": [
    "# Answer 4\n",
    "# zipfile function is equivalent to file object's open() function."
   ]
  },
  {
   "cell_type": "code",
   "execution_count": null,
   "id": "70f2a894",
   "metadata": {},
   "outputs": [],
   "source": []
  }
 ],
 "metadata": {
  "kernelspec": {
   "display_name": "Python 3",
   "language": "python",
   "name": "python3"
  },
  "language_info": {
   "codemirror_mode": {
    "name": "ipython",
    "version": 3
   },
   "file_extension": ".py",
   "mimetype": "text/x-python",
   "name": "python",
   "nbconvert_exporter": "python",
   "pygments_lexer": "ipython3",
   "version": "3.8.8"
  }
 },
 "nbformat": 4,
 "nbformat_minor": 5
}
